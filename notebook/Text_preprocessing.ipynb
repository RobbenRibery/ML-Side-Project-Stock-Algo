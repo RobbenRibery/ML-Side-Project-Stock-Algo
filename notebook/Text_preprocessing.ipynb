{
 "metadata": {
  "language_info": {
   "codemirror_mode": {
    "name": "ipython",
    "version": 3
   },
   "file_extension": ".py",
   "mimetype": "text/x-python",
   "name": "python",
   "nbconvert_exporter": "python",
   "pygments_lexer": "ipython3",
   "version": "3.7.3-final"
  },
  "orig_nbformat": 2,
  "kernelspec": {
   "name": "Python 3.7.3 64-bit ('anaconda3': conda)",
   "display_name": "Python 3.7.3 64-bit ('anaconda3': conda)",
   "metadata": {
    "interpreter": {
     "hash": "398dc28c06ad810e77de546bbdfa897a6ee0b83e59a5207339dda01a7843e01d"
    }
   }
  }
 },
 "nbformat": 4,
 "nbformat_minor": 2,
 "cells": [
  {
   "cell_type": "code",
   "execution_count": 16,
   "metadata": {},
   "outputs": [],
   "source": [
    "import pandas as pd \n",
    "import numpy as np \n",
    "import test_cleaner\n",
    "import twitterscraper\n",
    "import plotly.express as px \n",
    "import plotly.graph_objects as go\n",
    "from googletrans import Translator\n",
    "translator = Translator()\n",
    "import nltk\n",
    "words = set(nltk.corpus.words.words())"
   ]
  },
  {
   "source": [
    "## Data set description\n",
    "\n",
    "* facebook_twitter_story.csv contains media story containing Facebook from twitter \n",
    "\n",
    "* fb_story_withBOG.csv contains media story containing Facebook from blogs.barrons.com, Reuters, Bloomberg, Financial Times and Marketwatch"
   ],
   "cell_type": "markdown",
   "metadata": {}
  },
  {
   "cell_type": "code",
   "execution_count": 7,
   "metadata": {},
   "outputs": [],
   "source": [
    "sentiment_ph = \"/Users/ball4308/Desktop/MSc BA/BA Report /Sentiment Data Source\"\n",
    "fb_tw = pd.read_csv(sentiment_ph + '/facebook_twitter_story.csv')\n",
    "fb_tw['publish_date'] = pd.to_datetime(fb_tw['publish_date'])\n",
    "fb = pd.read_csv('fb_story_withBOG.csv').drop(columns = ['Unnamed: 0'])\n",
    "fb['publish_date'] = pd.to_datetime(fb['publish_date'])\n",
    "fb_tw['scraped_article'] = fb_tw['title']"
   ]
  },
  {
   "cell_type": "code",
   "execution_count": 8,
   "metadata": {},
   "outputs": [
    {
     "output_type": "execute_result",
     "data": {
      "text/plain": "        date  Facebook.wiki  Google.wiki  Microsoft.wiki  \\\n0 2015-07-08          45403        45521           10472   \n1 2015-07-09          47202        43295            9806   \n2 2015-07-10          46622        42652            7816   \n3 2015-07-13          47063        44437            7857   \n4 2015-07-14          44508        45269            7314   \n\n   Amazon (company).wiki  Apple Inc..wiki        AAPL        AMZN         FB  \\\n0                      1            14554  112.758286  429.700012  85.650002   \n1                      1            13725  110.458405  434.390015  85.879997   \n2                      0            12394  113.411430  443.510010  87.949997   \n3                      2            12479  115.600922  455.570007  90.099998   \n4                      0            11447  115.554909  465.570007  89.680000   \n\n        GOOGL  ...  Google.wiki_t-3_t-4  Microsoft.wiki_t-1_t-2  \\\n0  541.700012  ...               -784.0                    27.0   \n1  544.650024  ...              -1144.0                  2954.0   \n2  556.109985  ...               1162.0                  -666.0   \n3  571.729980  ...              -2174.0                 -1990.0   \n4  584.179993  ...              -2226.0                    41.0   \n\n   Microsoft.wiki_t-2_t-3  Microsoft.wiki_t-3_t-4  \\\n0                  -180.0                   192.0   \n1                    27.0                  -180.0   \n2                  2954.0                    27.0   \n3                  -666.0                  2954.0   \n4                 -1990.0                  -666.0   \n\n   Amazon (company).wiki_t-1_t-2  Amazon (company).wiki_t-2_t-3  \\\n0                            1.0                            1.0   \n1                           -2.0                            1.0   \n2                            0.0                           -2.0   \n3                           -1.0                            0.0   \n4                            2.0                           -1.0   \n\n   Amazon (company).wiki_t-3_t-4  Apple Inc..wiki_t-1_t-2  \\\n0                            0.0                   1794.0   \n1                            1.0                   1049.0   \n2                            1.0                   -829.0   \n3                           -2.0                  -1331.0   \n4                            0.0                     85.0   \n\n   Apple Inc..wiki_t-2_t-3  Apple Inc..wiki_t-3_t-4  \n0                   -481.0                    641.0  \n1                   1794.0                   -481.0  \n2                   1049.0                   1794.0  \n3                   -829.0                   1049.0  \n4                  -1331.0                   -829.0  \n\n[5 rows x 66 columns]",
      "text/html": "<div>\n<style scoped>\n    .dataframe tbody tr th:only-of-type {\n        vertical-align: middle;\n    }\n\n    .dataframe tbody tr th {\n        vertical-align: top;\n    }\n\n    .dataframe thead th {\n        text-align: right;\n    }\n</style>\n<table border=\"1\" class=\"dataframe\">\n  <thead>\n    <tr style=\"text-align: right;\">\n      <th></th>\n      <th>date</th>\n      <th>Facebook.wiki</th>\n      <th>Google.wiki</th>\n      <th>Microsoft.wiki</th>\n      <th>Amazon (company).wiki</th>\n      <th>Apple Inc..wiki</th>\n      <th>AAPL</th>\n      <th>AMZN</th>\n      <th>FB</th>\n      <th>GOOGL</th>\n      <th>...</th>\n      <th>Google.wiki_t-3_t-4</th>\n      <th>Microsoft.wiki_t-1_t-2</th>\n      <th>Microsoft.wiki_t-2_t-3</th>\n      <th>Microsoft.wiki_t-3_t-4</th>\n      <th>Amazon (company).wiki_t-1_t-2</th>\n      <th>Amazon (company).wiki_t-2_t-3</th>\n      <th>Amazon (company).wiki_t-3_t-4</th>\n      <th>Apple Inc..wiki_t-1_t-2</th>\n      <th>Apple Inc..wiki_t-2_t-3</th>\n      <th>Apple Inc..wiki_t-3_t-4</th>\n    </tr>\n  </thead>\n  <tbody>\n    <tr>\n      <th>0</th>\n      <td>2015-07-08</td>\n      <td>45403</td>\n      <td>45521</td>\n      <td>10472</td>\n      <td>1</td>\n      <td>14554</td>\n      <td>112.758286</td>\n      <td>429.700012</td>\n      <td>85.650002</td>\n      <td>541.700012</td>\n      <td>...</td>\n      <td>-784.0</td>\n      <td>27.0</td>\n      <td>-180.0</td>\n      <td>192.0</td>\n      <td>1.0</td>\n      <td>1.0</td>\n      <td>0.0</td>\n      <td>1794.0</td>\n      <td>-481.0</td>\n      <td>641.0</td>\n    </tr>\n    <tr>\n      <th>1</th>\n      <td>2015-07-09</td>\n      <td>47202</td>\n      <td>43295</td>\n      <td>9806</td>\n      <td>1</td>\n      <td>13725</td>\n      <td>110.458405</td>\n      <td>434.390015</td>\n      <td>85.879997</td>\n      <td>544.650024</td>\n      <td>...</td>\n      <td>-1144.0</td>\n      <td>2954.0</td>\n      <td>27.0</td>\n      <td>-180.0</td>\n      <td>-2.0</td>\n      <td>1.0</td>\n      <td>1.0</td>\n      <td>1049.0</td>\n      <td>1794.0</td>\n      <td>-481.0</td>\n    </tr>\n    <tr>\n      <th>2</th>\n      <td>2015-07-10</td>\n      <td>46622</td>\n      <td>42652</td>\n      <td>7816</td>\n      <td>0</td>\n      <td>12394</td>\n      <td>113.411430</td>\n      <td>443.510010</td>\n      <td>87.949997</td>\n      <td>556.109985</td>\n      <td>...</td>\n      <td>1162.0</td>\n      <td>-666.0</td>\n      <td>2954.0</td>\n      <td>27.0</td>\n      <td>0.0</td>\n      <td>-2.0</td>\n      <td>1.0</td>\n      <td>-829.0</td>\n      <td>1049.0</td>\n      <td>1794.0</td>\n    </tr>\n    <tr>\n      <th>3</th>\n      <td>2015-07-13</td>\n      <td>47063</td>\n      <td>44437</td>\n      <td>7857</td>\n      <td>2</td>\n      <td>12479</td>\n      <td>115.600922</td>\n      <td>455.570007</td>\n      <td>90.099998</td>\n      <td>571.729980</td>\n      <td>...</td>\n      <td>-2174.0</td>\n      <td>-1990.0</td>\n      <td>-666.0</td>\n      <td>2954.0</td>\n      <td>-1.0</td>\n      <td>0.0</td>\n      <td>-2.0</td>\n      <td>-1331.0</td>\n      <td>-829.0</td>\n      <td>1049.0</td>\n    </tr>\n    <tr>\n      <th>4</th>\n      <td>2015-07-14</td>\n      <td>44508</td>\n      <td>45269</td>\n      <td>7314</td>\n      <td>0</td>\n      <td>11447</td>\n      <td>115.554909</td>\n      <td>465.570007</td>\n      <td>89.680000</td>\n      <td>584.179993</td>\n      <td>...</td>\n      <td>-2226.0</td>\n      <td>41.0</td>\n      <td>-1990.0</td>\n      <td>-666.0</td>\n      <td>2.0</td>\n      <td>-1.0</td>\n      <td>0.0</td>\n      <td>85.0</td>\n      <td>-1331.0</td>\n      <td>-829.0</td>\n    </tr>\n  </tbody>\n</table>\n<p>5 rows × 66 columns</p>\n</div>"
     },
     "metadata": {},
     "execution_count": 8
    }
   ],
   "source": [
    "f = pd.read_csv('financial_wiki_2017_07_08.csv')\n",
    "f['Date']  = pd.to_datetime(f['Date'])\n",
    "f = f.rename(columns = {'Date':'date'})\n",
    "f.head()"
   ]
  },
  {
   "cell_type": "code",
   "execution_count": 9,
   "metadata": {
    "tags": []
   },
   "outputs": [
    {
     "output_type": "stream",
     "name": "stdout",
     "text": "<class 'pandas.core.frame.DataFrame'>\nRangeIndex: 4652 entries, 0 to 4651\nData columns (total 11 columns):\n #   Column           Non-Null Count  Dtype         \n---  ------           --------------  -----         \n 0   stories_id       4652 non-null   int64         \n 1   publish_date     4646 non-null   datetime64[ns]\n 2   title            4652 non-null   object        \n 3   url              4652 non-null   object        \n 4   language         4633 non-null   object        \n 5   ap_syndicated    4652 non-null   bool          \n 6   themes           819 non-null    object        \n 7   media_id         4652 non-null   int64         \n 8   media_name       4652 non-null   object        \n 9   media_url        4652 non-null   object        \n 10  scraped_article  4652 non-null   object        \ndtypes: bool(1), datetime64[ns](1), int64(2), object(7)\nmemory usage: 368.1+ KB\n"
    }
   ],
   "source": [
    "fb_tw.info()"
   ]
  },
  {
   "cell_type": "code",
   "execution_count": 10,
   "metadata": {
    "tags": []
   },
   "outputs": [
    {
     "output_type": "stream",
     "name": "stdout",
     "text": "<class 'pandas.core.frame.DataFrame'>\nRangeIndex: 4053 entries, 0 to 4052\nData columns (total 13 columns):\n #   Column           Non-Null Count  Dtype         \n---  ------           --------------  -----         \n 0   stories_id       4053 non-null   int64         \n 1   publish_date     4053 non-null   datetime64[ns]\n 2   title            4053 non-null   object        \n 3   url              4053 non-null   object        \n 4   language         4053 non-null   object        \n 5   ap_syndicated    4053 non-null   bool          \n 6   themes           793 non-null    object        \n 7   media_id         4053 non-null   int64         \n 8   media_name       4053 non-null   object        \n 9   media_url        4053 non-null   object        \n 10  title_FB_only    4053 non-null   object        \n 11  scraped_article  4053 non-null   object        \n 12  BOG              4053 non-null   object        \ndtypes: bool(1), datetime64[ns](1), int64(2), object(9)\nmemory usage: 384.1+ KB\n"
    }
   ],
   "source": [
    "fb.info()"
   ]
  },
  {
   "cell_type": "code",
   "execution_count": 11,
   "metadata": {
    "tags": []
   },
   "outputs": [
    {
     "output_type": "stream",
     "name": "stdout",
     "text": "<class 'pandas.core.frame.DataFrame'>\nRangeIndex: 1282 entries, 0 to 1281\nData columns (total 66 columns):\n #   Column                         Non-Null Count  Dtype         \n---  ------                         --------------  -----         \n 0   date                           1282 non-null   datetime64[ns]\n 1   Facebook.wiki                  1282 non-null   int64         \n 2   Google.wiki                    1282 non-null   int64         \n 3   Microsoft.wiki                 1282 non-null   int64         \n 4   Amazon (company).wiki          1282 non-null   int64         \n 5   Apple Inc..wiki                1282 non-null   int64         \n 6   AAPL                           1282 non-null   float64       \n 7   AMZN                           1282 non-null   float64       \n 8   FB                             1282 non-null   float64       \n 9   GOOGL                          1282 non-null   float64       \n 10  MSFT                           1282 non-null   float64       \n 11  FB_return                      1282 non-null   float64       \n 12  FB_change                      1282 non-null   float64       \n 13  GOOGL_return                   1282 non-null   float64       \n 14  GOOGL_change                   1282 non-null   float64       \n 15  MSFT_return                    1282 non-null   float64       \n 16  MSFT_change                    1282 non-null   float64       \n 17  AMZN_return                    1282 non-null   float64       \n 18  AMZN_change                    1282 non-null   float64       \n 19  AAPL_return                    1282 non-null   float64       \n 20  AAPL_change                    1282 non-null   float64       \n 21  Facebook.wiki_t-1              1282 non-null   float64       \n 22  Facebook.wiki_t-2              1282 non-null   float64       \n 23  Facebook.wiki_t-3              1282 non-null   float64       \n 24  Google.wiki_t-1                1282 non-null   float64       \n 25  Google.wiki_t-2                1282 non-null   float64       \n 26  Google.wiki_t-3                1282 non-null   float64       \n 27  Microsoft.wiki_t-1             1282 non-null   float64       \n 28  Microsoft.wiki_t-2             1282 non-null   float64       \n 29  Microsoft.wiki_t-3             1282 non-null   float64       \n 30  Amazon (company).wiki_t-1      1282 non-null   float64       \n 31  Amazon (company).wiki_t-2      1282 non-null   float64       \n 32  Amazon (company).wiki_t-3      1282 non-null   float64       \n 33  Apple Inc..wiki_t-1            1282 non-null   float64       \n 34  Apple Inc..wiki_t-2            1282 non-null   float64       \n 35  Apple Inc..wiki_t-3            1282 non-null   float64       \n 36  FB_return_t-1                  1282 non-null   float64       \n 37  FB_return_t-2                  1282 non-null   float64       \n 38  FB_return_t-3                  1282 non-null   float64       \n 39  GOOGL_return_t-1               1282 non-null   float64       \n 40  GOOGL_return_t-2               1282 non-null   float64       \n 41  GOOGL_return_t-3               1282 non-null   float64       \n 42  MSFT_return_t-1                1282 non-null   float64       \n 43  MSFT_return_t-2                1282 non-null   float64       \n 44  MSFT_return_t-3                1282 non-null   float64       \n 45  AMZN_return_t-1                1282 non-null   float64       \n 46  AMZN_return_t-2                1282 non-null   float64       \n 47  AMZN_return_t-3                1282 non-null   float64       \n 48  AAPL_return_t-1                1282 non-null   float64       \n 49  AAPL_return_t-2                1282 non-null   float64       \n 50  AAPL_return_t-3                1282 non-null   float64       \n 51  Facebook.wiki_t-1_t-2          1282 non-null   float64       \n 52  Facebook.wiki_t-2_t-3          1282 non-null   float64       \n 53  Facebook.wiki_t-3_t-4          1282 non-null   float64       \n 54  Google.wiki_t-1_t-2            1282 non-null   float64       \n 55  Google.wiki_t-2_t-3            1282 non-null   float64       \n 56  Google.wiki_t-3_t-4            1282 non-null   float64       \n 57  Microsoft.wiki_t-1_t-2         1282 non-null   float64       \n 58  Microsoft.wiki_t-2_t-3         1282 non-null   float64       \n 59  Microsoft.wiki_t-3_t-4         1282 non-null   float64       \n 60  Amazon (company).wiki_t-1_t-2  1282 non-null   float64       \n 61  Amazon (company).wiki_t-2_t-3  1282 non-null   float64       \n 62  Amazon (company).wiki_t-3_t-4  1282 non-null   float64       \n 63  Apple Inc..wiki_t-1_t-2        1282 non-null   float64       \n 64  Apple Inc..wiki_t-2_t-3        1282 non-null   float64       \n 65  Apple Inc..wiki_t-3_t-4        1282 non-null   float64       \ndtypes: datetime64[ns](1), float64(60), int64(5)\nmemory usage: 661.2 KB\n"
    }
   ],
   "source": [
    "f.info()"
   ]
  },
  {
   "cell_type": "code",
   "execution_count": 12,
   "metadata": {
    "tags": []
   },
   "outputs": [
    {
     "output_type": "stream",
     "name": "stdout",
     "text": "<class 'pandas.core.frame.DataFrame'>\nInt64Index: 8705 entries, 1571 to 4072\nData columns (total 13 columns):\n #   Column           Non-Null Count  Dtype         \n---  ------           --------------  -----         \n 0   stories_id       8705 non-null   int64         \n 1   publish_date     8699 non-null   datetime64[ns]\n 2   title            8705 non-null   object        \n 3   url              8705 non-null   object        \n 4   language         8686 non-null   object        \n 5   ap_syndicated    8705 non-null   bool          \n 6   themes           1612 non-null   object        \n 7   media_id         8705 non-null   int64         \n 8   media_name       8705 non-null   object        \n 9   media_url        8705 non-null   object        \n 10  scraped_article  8705 non-null   object        \n 11  title_FB_only    4053 non-null   object        \n 12  BOG              4053 non-null   object        \ndtypes: bool(1), datetime64[ns](1), int64(2), object(9)\nmemory usage: 892.6+ KB\n"
    }
   ],
   "source": [
    "# merge two data set \n",
    "df = pd.concat([fb_tw, fb]).sort_values('publish_date')\n",
    "df.info()"
   ]
  },
  {
   "cell_type": "code",
   "execution_count": 13,
   "metadata": {},
   "outputs": [],
   "source": [
    "df = df.reset_index()\n",
    "df['date'] = df['publish_date'].apply(lambda x: x.date())"
   ]
  },
  {
   "source": [
    "## Part 1 Translation"
   ],
   "cell_type": "markdown",
   "metadata": {}
  },
  {
   "cell_type": "code",
   "execution_count": 14,
   "metadata": {
    "tags": []
   },
   "outputs": [
    {
     "output_type": "stream",
     "name": "stdout",
     "text": "['en' 'es' 'de' 'pt' nan 'nn' 'fr' 'nl' 'ca' 'it' 'tl' 'hi' 'ro' 'id' 'zh'\n 'ja']\n"
    }
   ],
   "source": [
    "# Handle text and language \n",
    "print(df['language'].unique())"
   ]
  },
  {
   "cell_type": "code",
   "execution_count": 21,
   "metadata": {},
   "outputs": [],
   "source": [
    "df = df.drop(columns = ['index'])"
   ]
  },
  {
   "source": [
    "* translate all languages into the english \n",
    "\n",
    "* An example in French:"
   ],
   "cell_type": "markdown",
   "metadata": {}
  },
  {
   "cell_type": "code",
   "execution_count": 18,
   "metadata": {},
   "outputs": [
    {
     "output_type": "execute_result",
     "data": {
      "text/plain": "'UN accuses Facebook of fueling Rohingya crisis'"
     },
     "metadata": {},
     "execution_count": 18
    }
   ],
   "source": [
    "translator.translate(df[df['language'] == 'fr'].loc[2894]['title']).text"
   ]
  },
  {
   "source": [
    "* An example in Chinese:"
   ],
   "cell_type": "markdown",
   "metadata": {}
  },
  {
   "cell_type": "code",
   "execution_count": 19,
   "metadata": {},
   "outputs": [
    {
     "output_type": "execute_result",
     "data": {
      "text/plain": "'This is a pencil'"
     },
     "metadata": {},
     "execution_count": 19
    }
   ],
   "source": [
    "translator.translate('这是一只铅笔').text"
   ]
  },
  {
   "cell_type": "code",
   "execution_count": 25,
   "metadata": {},
   "outputs": [],
   "source": [
    "def translater(text): \n",
    "    return translator.translate(text).text"
   ]
  },
  {
   "cell_type": "code",
   "execution_count": 24,
   "metadata": {
    "tags": []
   },
   "outputs": [
    {
     "output_type": "error",
     "ename": "NameError",
     "evalue": "name 'translater' is not defined",
     "traceback": [
      "\u001b[0;31m---------------------------------------------------------------------------\u001b[0m",
      "\u001b[0;31mNameError\u001b[0m                                 Traceback (most recent call last)",
      "\u001b[0;32m<ipython-input-24-90ef5e792555>\u001b[0m in \u001b[0;36m<module>\u001b[0;34m\u001b[0m\n\u001b[0;32m----> 1\u001b[0;31m \u001b[0mdf\u001b[0m\u001b[0;34m[\u001b[0m\u001b[0;34m'translated'\u001b[0m\u001b[0;34m]\u001b[0m \u001b[0;34m=\u001b[0m \u001b[0mdf\u001b[0m\u001b[0;34m[\u001b[0m\u001b[0;34m'scraped_article'\u001b[0m\u001b[0;34m]\u001b[0m\u001b[0;34m.\u001b[0m\u001b[0mapply\u001b[0m\u001b[0;34m(\u001b[0m\u001b[0;32mlambda\u001b[0m \u001b[0mx\u001b[0m\u001b[0;34m:\u001b[0m \u001b[0mtranslater\u001b[0m\u001b[0;34m(\u001b[0m\u001b[0mx\u001b[0m\u001b[0;34m)\u001b[0m\u001b[0;34m)\u001b[0m\u001b[0;34m\u001b[0m\u001b[0;34m\u001b[0m\u001b[0m\n\u001b[0m",
      "\u001b[0;32m/anaconda3/lib/python3.7/site-packages/pandas/core/series.py\u001b[0m in \u001b[0;36mapply\u001b[0;34m(self, func, convert_dtype, args, **kwds)\u001b[0m\n\u001b[1;32m   4198\u001b[0m             \u001b[0;32melse\u001b[0m\u001b[0;34m:\u001b[0m\u001b[0;34m\u001b[0m\u001b[0;34m\u001b[0m\u001b[0m\n\u001b[1;32m   4199\u001b[0m                 \u001b[0mvalues\u001b[0m \u001b[0;34m=\u001b[0m \u001b[0mself\u001b[0m\u001b[0;34m.\u001b[0m\u001b[0mastype\u001b[0m\u001b[0;34m(\u001b[0m\u001b[0mobject\u001b[0m\u001b[0;34m)\u001b[0m\u001b[0;34m.\u001b[0m\u001b[0m_values\u001b[0m\u001b[0;34m\u001b[0m\u001b[0;34m\u001b[0m\u001b[0m\n\u001b[0;32m-> 4200\u001b[0;31m                 \u001b[0mmapped\u001b[0m \u001b[0;34m=\u001b[0m \u001b[0mlib\u001b[0m\u001b[0;34m.\u001b[0m\u001b[0mmap_infer\u001b[0m\u001b[0;34m(\u001b[0m\u001b[0mvalues\u001b[0m\u001b[0;34m,\u001b[0m \u001b[0mf\u001b[0m\u001b[0;34m,\u001b[0m \u001b[0mconvert\u001b[0m\u001b[0;34m=\u001b[0m\u001b[0mconvert_dtype\u001b[0m\u001b[0;34m)\u001b[0m\u001b[0;34m\u001b[0m\u001b[0;34m\u001b[0m\u001b[0m\n\u001b[0m\u001b[1;32m   4201\u001b[0m \u001b[0;34m\u001b[0m\u001b[0m\n\u001b[1;32m   4202\u001b[0m         \u001b[0;32mif\u001b[0m \u001b[0mlen\u001b[0m\u001b[0;34m(\u001b[0m\u001b[0mmapped\u001b[0m\u001b[0;34m)\u001b[0m \u001b[0;32mand\u001b[0m \u001b[0misinstance\u001b[0m\u001b[0;34m(\u001b[0m\u001b[0mmapped\u001b[0m\u001b[0;34m[\u001b[0m\u001b[0;36m0\u001b[0m\u001b[0;34m]\u001b[0m\u001b[0;34m,\u001b[0m \u001b[0mSeries\u001b[0m\u001b[0;34m)\u001b[0m\u001b[0;34m:\u001b[0m\u001b[0;34m\u001b[0m\u001b[0;34m\u001b[0m\u001b[0m\n",
      "\u001b[0;32mpandas/_libs/lib.pyx\u001b[0m in \u001b[0;36mpandas._libs.lib.map_infer\u001b[0;34m()\u001b[0m\n",
      "\u001b[0;32m<ipython-input-24-90ef5e792555>\u001b[0m in \u001b[0;36m<lambda>\u001b[0;34m(x)\u001b[0m\n\u001b[0;32m----> 1\u001b[0;31m \u001b[0mdf\u001b[0m\u001b[0;34m[\u001b[0m\u001b[0;34m'translated'\u001b[0m\u001b[0;34m]\u001b[0m \u001b[0;34m=\u001b[0m \u001b[0mdf\u001b[0m\u001b[0;34m[\u001b[0m\u001b[0;34m'scraped_article'\u001b[0m\u001b[0;34m]\u001b[0m\u001b[0;34m.\u001b[0m\u001b[0mapply\u001b[0m\u001b[0;34m(\u001b[0m\u001b[0;32mlambda\u001b[0m \u001b[0mx\u001b[0m\u001b[0;34m:\u001b[0m \u001b[0mtranslater\u001b[0m\u001b[0;34m(\u001b[0m\u001b[0mx\u001b[0m\u001b[0;34m)\u001b[0m\u001b[0;34m)\u001b[0m\u001b[0;34m\u001b[0m\u001b[0;34m\u001b[0m\u001b[0m\n\u001b[0m",
      "\u001b[0;31mNameError\u001b[0m: name 'translater' is not defined"
     ]
    }
   ],
   "source": [
    "df['translated'] = df['scraped_article'].apply(lambda x: translater(x))"
   ]
  },
  {
   "cell_type": "markdown",
   "metadata": {},
   "source": [
    "## Part 2 - Text Cleaning "
   ]
  },
  {
   "cell_type": "code",
   "execution_count": 6,
   "metadata": {
    "tags": []
   },
   "outputs": [
    {
     "output_type": "stream",
     "name": "stdout",
     "text": "Ethan Ralph on Twitter: \"#GamerGate Ultras over on Facebook appreciates Big Randi's help. http://t.co/O7BuLk1UGu\"\n"
    }
   ],
   "source": [
    "example_text = df.loc[0]['translateda_mix']\n",
    "print(example_text)"
   ]
  },
  {
   "cell_type": "code",
   "execution_count": 7,
   "metadata": {
    "tags": []
   },
   "outputs": [
    {
     "output_type": "stream",
     "name": "stdout",
     "text": "ralph twitter appreciate big help\n"
    }
   ],
   "source": [
    "## Existing pieline \n",
    "forbidden_list = []\n",
    "output2 = test_cleaner.text_pipline(example_text, forbidden_list).lower()\n",
    "print(output2)"
   ]
  },
  {
   "cell_type": "code",
   "execution_count": 6,
   "metadata": {
    "tags": []
   },
   "outputs": [],
   "source": [
    "def CountFrequency(my_list): \n",
    "    # Creating an empty dictionary  \n",
    "    freq = {} \n",
    "    for item in my_list: \n",
    "        if (item in freq): \n",
    "            freq[item] += 1\n",
    "        else: \n",
    "            freq[item] = 1\n",
    "    return freq "
   ]
  },
  {
   "cell_type": "code",
   "execution_count": 9,
   "metadata": {
    "tags": []
   },
   "outputs": [],
   "source": [
    "df['translateda_mix_cleaned'] = df['translateda_mix'].apply(lambda x: test_cleaner.text_pipline(x, forbidden_list).lower())"
   ]
  },
  {
   "cell_type": "code",
   "execution_count": 11,
   "metadata": {
    "tags": []
   },
   "outputs": [
    {
     "output_type": "stream",
     "name": "stdout",
     "text": "<class 'pandas.core.frame.DataFrame'>\nRangeIndex: 8705 entries, 0 to 8704\nData columns (total 17 columns):\n #   Column                   Non-Null Count  Dtype         \n---  ------                   --------------  -----         \n 0   stories_id               8705 non-null   int64         \n 1   publish_date             8699 non-null   datetime64[ns]\n 2   title                    8705 non-null   object        \n 3   url                      8705 non-null   object        \n 4   language                 8686 non-null   object        \n 5   ap_syndicated            8705 non-null   bool          \n 6   themes                   1612 non-null   object        \n 7   media_id                 8705 non-null   int64         \n 8   media_name               8705 non-null   object        \n 9   media_url                8705 non-null   object        \n 10  scraped_article          8705 non-null   object        \n 11  title_FB_only            4053 non-null   object        \n 12  BOG                      4053 non-null   object        \n 13  date                     8699 non-null   object        \n 14  translateda_mix          8705 non-null   object        \n 15  translateda_headline     8705 non-null   object        \n 16  translateda_mix_cleaned  8705 non-null   object        \ndtypes: bool(1), datetime64[ns](1), int64(2), object(13)\nmemory usage: 1.1+ MB\n"
    }
   ],
   "source": [
    "df.info()"
   ]
  },
  {
   "cell_type": "code",
   "execution_count": 17,
   "metadata": {
    "tags": []
   },
   "outputs": [
    {
     "output_type": "stream",
     "name": "stdout",
     "text": "<class 'pandas.core.frame.DataFrame'>\nInt64Index: 973 entries, 3 to 8704\nData columns (total 17 columns):\n #   Column                   Non-Null Count  Dtype         \n---  ------                   --------------  -----         \n 0   stories_id               973 non-null    int64         \n 1   publish_date             970 non-null    datetime64[ns]\n 2   title                    973 non-null    object        \n 3   url                      973 non-null    object        \n 4   language                 970 non-null    object        \n 5   ap_syndicated            973 non-null    bool          \n 6   themes                   134 non-null    object        \n 7   media_id                 973 non-null    int64         \n 8   media_name               973 non-null    object        \n 9   media_url                973 non-null    object        \n 10  scraped_article          973 non-null    object        \n 11  title_FB_only            125 non-null    object        \n 12  BOG                      125 non-null    object        \n 13  date                     970 non-null    object        \n 14  translateda_mix          973 non-null    object        \n 15  translateda_headline     973 non-null    object        \n 16  translateda_mix_cleaned  973 non-null    object        \ndtypes: bool(1), datetime64[ns](1), int64(2), object(13)\nmemory usage: 130.2+ KB\n"
    }
   ],
   "source": [
    "df[df['translateda_mix_cleaned'] == 'noinfo'].info()"
   ]
  },
  {
   "cell_type": "code",
   "execution_count": 18,
   "metadata": {
    "tags": []
   },
   "outputs": [
    {
     "output_type": "stream",
     "name": "stdout",
     "text": "<class 'pandas.core.frame.DataFrame'>\nInt64Index: 7732 entries, 0 to 8703\nData columns (total 17 columns):\n #   Column                   Non-Null Count  Dtype         \n---  ------                   --------------  -----         \n 0   stories_id               7732 non-null   int64         \n 1   publish_date             7729 non-null   datetime64[ns]\n 2   title                    7732 non-null   object        \n 3   url                      7732 non-null   object        \n 4   language                 7716 non-null   object        \n 5   ap_syndicated            7732 non-null   bool          \n 6   themes                   1478 non-null   object        \n 7   media_id                 7732 non-null   int64         \n 8   media_name               7732 non-null   object        \n 9   media_url                7732 non-null   object        \n 10  scraped_article          7732 non-null   object        \n 11  title_FB_only            3928 non-null   object        \n 12  BOG                      3928 non-null   object        \n 13  date                     7729 non-null   object        \n 14  translateda_mix          7732 non-null   object        \n 15  translateda_headline     7732 non-null   object        \n 16  translateda_mix_cleaned  7732 non-null   object        \ndtypes: bool(1), datetime64[ns](1), int64(2), object(13)\nmemory usage: 1.0+ MB\n"
    }
   ],
   "source": [
    "df_2 = df[df['translateda_mix_cleaned'] != 'noinfo']\n",
    "df_2.info()"
   ]
  },
  {
   "cell_type": "code",
   "execution_count": 19,
   "metadata": {},
   "outputs": [],
   "source": [
    "df_2['translateda_headline_cleaned'] = df_2['translateda_headline'].apply(lambda x: test_cleaner.text_pipline(x, forbidden_list).lower())"
   ]
  },
  {
   "cell_type": "code",
   "execution_count": 20,
   "metadata": {
    "tags": []
   },
   "outputs": [
    {
     "output_type": "stream",
     "name": "stdout",
     "text": "<class 'pandas.core.frame.DataFrame'>\nInt64Index: 7732 entries, 0 to 8703\nData columns (total 18 columns):\n #   Column                        Non-Null Count  Dtype         \n---  ------                        --------------  -----         \n 0   stories_id                    7732 non-null   int64         \n 1   publish_date                  7729 non-null   datetime64[ns]\n 2   title                         7732 non-null   object        \n 3   url                           7732 non-null   object        \n 4   language                      7716 non-null   object        \n 5   ap_syndicated                 7732 non-null   bool          \n 6   themes                        1478 non-null   object        \n 7   media_id                      7732 non-null   int64         \n 8   media_name                    7732 non-null   object        \n 9   media_url                     7732 non-null   object        \n 10  scraped_article               7732 non-null   object        \n 11  title_FB_only                 3928 non-null   object        \n 12  BOG                           3928 non-null   object        \n 13  date                          7729 non-null   object        \n 14  translateda_mix               7732 non-null   object        \n 15  translateda_headline          7732 non-null   object        \n 16  translateda_mix_cleaned       7732 non-null   object        \n 17  translateda_headline_cleaned  7732 non-null   object        \ndtypes: bool(1), datetime64[ns](1), int64(2), object(14)\nmemory usage: 1.1+ MB\n"
    }
   ],
   "source": [
    "df_2.info()"
   ]
  },
  {
   "cell_type": "code",
   "execution_count": 49,
   "metadata": {},
   "outputs": [],
   "source": [
    "from sklearn.feature_extraction.text import TfidfVectorizer"
   ]
  },
  {
   "cell_type": "code",
   "execution_count": 51,
   "metadata": {},
   "outputs": [],
   "source": [
    "#def TFIDF (string): \n",
    "def tf(string): \n",
    "    vec = TfidfVectorizer(use_idf=False)\n",
    "    analysed = vec.fit_transform([string])\n",
    "    return {u:v for (u, v) in zip(vec.get_feature_names(),analysed.toarray().tolist()[0])}"
   ]
  },
  {
   "cell_type": "code",
   "execution_count": 52,
   "metadata": {},
   "outputs": [],
   "source": [
    "#df_2.to_csv('df_transed_cleaned.csv')\n",
    "df_2 = pd.read_csv('df_transed_cleaned.csv').drop(columns = ['Unnamed: 0'])\n",
    "df_2['publish_date'] = pd.to_datetime(df_2['publish_date'])"
   ]
  },
  {
   "cell_type": "code",
   "execution_count": 53,
   "metadata": {},
   "outputs": [],
   "source": [
    "df_2['translateda_mix_cleaned'] = df_2['translateda_mix_cleaned'].astype(str)\n",
    "df_2['translateda_headline_cleaned'] = df_2['translateda_headline_cleaned'].astype(str)\n",
    "df_2['translateda_mix_dic'] = df_2['translateda_mix_cleaned'].apply(lambda x: tf(x))\n",
    "df_2['translateda_headline_dic'] = df_2['translateda_headline_cleaned'].apply(lambda x: tf(x))"
   ]
  },
  {
   "cell_type": "code",
   "execution_count": 54,
   "metadata": {},
   "outputs": [
    {
     "output_type": "execute_result",
     "data": {
      "text/plain": "   stories_id        publish_date  \\\n0   865782065 2015-01-03 18:12:00   \n1   335784736 2015-01-07 07:23:39   \n2   335817091 2015-01-07 12:32:58   \n3   320258910 2015-01-15 21:39:09   \n4   372077690 2015-01-24 07:00:00   \n\n                                               title  \\\n0  Ethan Ralph on Twitter: \"#GamerGate Ultras ove...   \n1  The Daily Rupert  on Twitter: &quot;Facebook v...   \n2  teleSUR TV on Twitter: &quot;El Festival de Ca...   \n3  Stop Patriarchy on Twitter: &quot;Tune in to n...   \n4  Blocker (Mr. Fart) on Twitter: &quot;#GamerGat...   \n\n                                                 url language  ap_syndicated  \\\n0  https://twitter.com/TheRalphRetort/status/5515...       en          False   \n1  https://twitter.com/TheMurdochTimes/status/552...       en          False   \n2  https://twitter.com/teleSURtv/status/552880585...       en          False   \n3  https://twitter.com/StopPatriarchy/status/5559...       en          False   \n4                           https://archive.is/ArtrI       en          False   \n\n                       themes  media_id media_name           media_url  \\\n0                         NaN     18346    Twitter  http://twitter.com   \n1                         NaN     18346    Twitter  http://twitter.com   \n2                         NaN     18346    Twitter  http://twitter.com   \n3                         NaN     18346    Twitter  http://twitter.com   \n4  computers and the internet     18346    Twitter  http://twitter.com   \n\n                                     scraped_article title_FB_only  BOG  \\\n0  Ethan Ralph on Twitter: \"#GamerGate Ultras ove...           NaN  NaN   \n1  The Daily Rupert  on Twitter: &quot;Facebook v...           NaN  NaN   \n2  teleSUR TV on Twitter: &quot;El Festival de Ca...           NaN  NaN   \n3  Stop Patriarchy on Twitter: &quot;Tune in to n...           NaN  NaN   \n4  Blocker (Mr. Fart) on Twitter: &quot;#GamerGat...           NaN  NaN   \n\n         date                                    translateda_mix  \\\n0  2015-01-03  Ethan Ralph on Twitter: \"#GamerGate Ultras ove...   \n1  2015-01-07  The Daily Rupert  on Twitter: &quot;Facebook v...   \n2  2015-01-07  teleSUR TV on Twitter: &quot;El Festival de Ca...   \n3  2015-01-15  Stop Patriarchy on Twitter: &quot;Tune in to n...   \n4  2015-01-24  Blocker (Mr. Fart) on Twitter: &quot;#GamerGat...   \n\n                                translateda_headline  \\\n0  Ethan Ralph on Twitter: \"#GamerGate Ultras ove...   \n1  The Daily Rupert  on Twitter: &quot;Facebook v...   \n2  teleSUR TV on Twitter: &quot;El Festival de Ca...   \n3  Stop Patriarchy on Twitter: &quot;Tune in to n...   \n4  Blocker (Mr. Fart) on Twitter: &quot;#GamerGat...   \n\n                             translateda_mix_cleaned  \\\n0                  ralph twitter appreciate big help   \n1  daily twitter video image terrorist outside of...   \n2                          twitter festival de en en   \n3                 stop patriarchy twitter join event   \n4  blocker twitter kop could not keep mouth shut ...   \n\n                        translateda_headline_cleaned  \\\n0                  ralph twitter appreciate big help   \n1  daily twitter video image terrorist outside of...   \n2                          twitter festival de en en   \n3                 stop patriarchy twitter join event   \n4  blocker twitter kop could not keep mouth shut ...   \n\n                                 translateda_mix_dic  \\\n0  {'appreciate': 0.4472135954999579, 'big': 0.44...   \n1  {'attack': 0.30151134457776363, 'daily': 0.301...   \n2  {'de': 0.3779644730092272, 'en': 0.75592894601...   \n3  {'event': 0.4472135954999579, 'join': 0.447213...   \n4  {'blocker': 0.30151134457776363, 'confirm': 0....   \n\n                            translateda_headline_dic  \n0  {'appreciate': 0.4472135954999579, 'big': 0.44...  \n1  {'attack': 0.30151134457776363, 'daily': 0.301...  \n2  {'de': 0.3779644730092272, 'en': 0.75592894601...  \n3  {'event': 0.4472135954999579, 'join': 0.447213...  \n4  {'blocker': 0.30151134457776363, 'confirm': 0....  ",
      "text/html": "<div>\n<style scoped>\n    .dataframe tbody tr th:only-of-type {\n        vertical-align: middle;\n    }\n\n    .dataframe tbody tr th {\n        vertical-align: top;\n    }\n\n    .dataframe thead th {\n        text-align: right;\n    }\n</style>\n<table border=\"1\" class=\"dataframe\">\n  <thead>\n    <tr style=\"text-align: right;\">\n      <th></th>\n      <th>stories_id</th>\n      <th>publish_date</th>\n      <th>title</th>\n      <th>url</th>\n      <th>language</th>\n      <th>ap_syndicated</th>\n      <th>themes</th>\n      <th>media_id</th>\n      <th>media_name</th>\n      <th>media_url</th>\n      <th>scraped_article</th>\n      <th>title_FB_only</th>\n      <th>BOG</th>\n      <th>date</th>\n      <th>translateda_mix</th>\n      <th>translateda_headline</th>\n      <th>translateda_mix_cleaned</th>\n      <th>translateda_headline_cleaned</th>\n      <th>translateda_mix_dic</th>\n      <th>translateda_headline_dic</th>\n    </tr>\n  </thead>\n  <tbody>\n    <tr>\n      <th>0</th>\n      <td>865782065</td>\n      <td>2015-01-03 18:12:00</td>\n      <td>Ethan Ralph on Twitter: \"#GamerGate Ultras ove...</td>\n      <td>https://twitter.com/TheRalphRetort/status/5515...</td>\n      <td>en</td>\n      <td>False</td>\n      <td>NaN</td>\n      <td>18346</td>\n      <td>Twitter</td>\n      <td>http://twitter.com</td>\n      <td>Ethan Ralph on Twitter: \"#GamerGate Ultras ove...</td>\n      <td>NaN</td>\n      <td>NaN</td>\n      <td>2015-01-03</td>\n      <td>Ethan Ralph on Twitter: \"#GamerGate Ultras ove...</td>\n      <td>Ethan Ralph on Twitter: \"#GamerGate Ultras ove...</td>\n      <td>ralph twitter appreciate big help</td>\n      <td>ralph twitter appreciate big help</td>\n      <td>{'appreciate': 0.4472135954999579, 'big': 0.44...</td>\n      <td>{'appreciate': 0.4472135954999579, 'big': 0.44...</td>\n    </tr>\n    <tr>\n      <th>1</th>\n      <td>335784736</td>\n      <td>2015-01-07 07:23:39</td>\n      <td>The Daily Rupert  on Twitter: &amp;quot;Facebook v...</td>\n      <td>https://twitter.com/TheMurdochTimes/status/552...</td>\n      <td>en</td>\n      <td>False</td>\n      <td>NaN</td>\n      <td>18346</td>\n      <td>Twitter</td>\n      <td>http://twitter.com</td>\n      <td>The Daily Rupert  on Twitter: &amp;quot;Facebook v...</td>\n      <td>NaN</td>\n      <td>NaN</td>\n      <td>2015-01-07</td>\n      <td>The Daily Rupert  on Twitter: &amp;quot;Facebook v...</td>\n      <td>The Daily Rupert  on Twitter: &amp;quot;Facebook v...</td>\n      <td>daily twitter video image terrorist outside of...</td>\n      <td>daily twitter video image terrorist outside of...</td>\n      <td>{'attack': 0.30151134457776363, 'daily': 0.301...</td>\n      <td>{'attack': 0.30151134457776363, 'daily': 0.301...</td>\n    </tr>\n    <tr>\n      <th>2</th>\n      <td>335817091</td>\n      <td>2015-01-07 12:32:58</td>\n      <td>teleSUR TV on Twitter: &amp;quot;El Festival de Ca...</td>\n      <td>https://twitter.com/teleSURtv/status/552880585...</td>\n      <td>en</td>\n      <td>False</td>\n      <td>NaN</td>\n      <td>18346</td>\n      <td>Twitter</td>\n      <td>http://twitter.com</td>\n      <td>teleSUR TV on Twitter: &amp;quot;El Festival de Ca...</td>\n      <td>NaN</td>\n      <td>NaN</td>\n      <td>2015-01-07</td>\n      <td>teleSUR TV on Twitter: &amp;quot;El Festival de Ca...</td>\n      <td>teleSUR TV on Twitter: &amp;quot;El Festival de Ca...</td>\n      <td>twitter festival de en en</td>\n      <td>twitter festival de en en</td>\n      <td>{'de': 0.3779644730092272, 'en': 0.75592894601...</td>\n      <td>{'de': 0.3779644730092272, 'en': 0.75592894601...</td>\n    </tr>\n    <tr>\n      <th>3</th>\n      <td>320258910</td>\n      <td>2015-01-15 21:39:09</td>\n      <td>Stop Patriarchy on Twitter: &amp;quot;Tune in to n...</td>\n      <td>https://twitter.com/StopPatriarchy/status/5559...</td>\n      <td>en</td>\n      <td>False</td>\n      <td>NaN</td>\n      <td>18346</td>\n      <td>Twitter</td>\n      <td>http://twitter.com</td>\n      <td>Stop Patriarchy on Twitter: &amp;quot;Tune in to n...</td>\n      <td>NaN</td>\n      <td>NaN</td>\n      <td>2015-01-15</td>\n      <td>Stop Patriarchy on Twitter: &amp;quot;Tune in to n...</td>\n      <td>Stop Patriarchy on Twitter: &amp;quot;Tune in to n...</td>\n      <td>stop patriarchy twitter join event</td>\n      <td>stop patriarchy twitter join event</td>\n      <td>{'event': 0.4472135954999579, 'join': 0.447213...</td>\n      <td>{'event': 0.4472135954999579, 'join': 0.447213...</td>\n    </tr>\n    <tr>\n      <th>4</th>\n      <td>372077690</td>\n      <td>2015-01-24 07:00:00</td>\n      <td>Blocker (Mr. Fart) on Twitter: &amp;quot;#GamerGat...</td>\n      <td>https://archive.is/ArtrI</td>\n      <td>en</td>\n      <td>False</td>\n      <td>computers and the internet</td>\n      <td>18346</td>\n      <td>Twitter</td>\n      <td>http://twitter.com</td>\n      <td>Blocker (Mr. Fart) on Twitter: &amp;quot;#GamerGat...</td>\n      <td>NaN</td>\n      <td>NaN</td>\n      <td>2015-01-24</td>\n      <td>Blocker (Mr. Fart) on Twitter: &amp;quot;#GamerGat...</td>\n      <td>Blocker (Mr. Fart) on Twitter: &amp;quot;#GamerGat...</td>\n      <td>blocker twitter kop could not keep mouth shut ...</td>\n      <td>blocker twitter kop could not keep mouth shut ...</td>\n      <td>{'blocker': 0.30151134457776363, 'confirm': 0....</td>\n      <td>{'blocker': 0.30151134457776363, 'confirm': 0....</td>\n    </tr>\n  </tbody>\n</table>\n</div>"
     },
     "metadata": {},
     "execution_count": 54
    }
   ],
   "source": [
    "df_2.head()"
   ]
  },
  {
   "cell_type": "code",
   "execution_count": 55,
   "metadata": {
    "tags": []
   },
   "outputs": [
    {
     "output_type": "stream",
     "name": "stdout",
     "text": "<class 'pandas.core.frame.DataFrame'>\nRangeIndex: 7732 entries, 0 to 7731\nData columns (total 20 columns):\n #   Column                        Non-Null Count  Dtype         \n---  ------                        --------------  -----         \n 0   stories_id                    7732 non-null   int64         \n 1   publish_date                  7729 non-null   datetime64[ns]\n 2   title                         7732 non-null   object        \n 3   url                           7732 non-null   object        \n 4   language                      7716 non-null   object        \n 5   ap_syndicated                 7732 non-null   bool          \n 6   themes                        1478 non-null   object        \n 7   media_id                      7732 non-null   int64         \n 8   media_name                    7732 non-null   object        \n 9   media_url                     7732 non-null   object        \n 10  scraped_article               7732 non-null   object        \n 11  title_FB_only                 3928 non-null   object        \n 12  BOG                           3928 non-null   object        \n 13  date                          7729 non-null   object        \n 14  translateda_mix               7732 non-null   object        \n 15  translateda_headline          7732 non-null   object        \n 16  translateda_mix_cleaned       7732 non-null   object        \n 17  translateda_headline_cleaned  7732 non-null   object        \n 18  translateda_mix_dic           7732 non-null   object        \n 19  translateda_headline_dic      7732 non-null   object        \ndtypes: bool(1), datetime64[ns](1), int64(2), object(16)\nmemory usage: 1.1+ MB\n"
    }
   ],
   "source": [
    "df_2.info()"
   ]
  },
  {
   "cell_type": "code",
   "execution_count": 70,
   "metadata": {},
   "outputs": [],
   "source": [
    "def bog_trans_itf(df_2): \n",
    "    \n",
    "    ## generate the string \n",
    "    total_string = \"\"\n",
    "    for item in list(df_2['translateda_mix_dic'].values):\n",
    "        total_string += \" \" + \" \".join(list(item.keys()))\n",
    "    total_list = [x for x in total_string.split(' ')]\n",
    "    BOW = set(total_list)\n",
    "    \n",
    "    ## generate the dictrionary \n",
    "    result = dict.fromkeys(BOW, [0]*len(df_2['translateda_mix_dic']))\n",
    "\n",
    "    ## get the result \n",
    "    lis = df_2['translateda_mix_dic'].values.flatten()\n",
    "\n",
    "    for i in range(len(lis)): \n",
    "        for key in lis[i].keys(): \n",
    "            result[key][i] = lis[i][key]\n",
    "\n",
    "    total_docs = df_2.shape[0]\n",
    "\n",
    "    for key in result.keys(): \n",
    "        count_of_zero = result[key].count(0)\n",
    "        df_2[key] =  [x * float(np.log(total_docs/(total_docs - count_of_zero))) for x in result[key]]\n",
    "\n",
    "    return df_2"
   ]
  },
  {
   "cell_type": "code",
   "execution_count": 71,
   "metadata": {},
   "outputs": [],
   "source": [
    "df_2 = bog_trans_itf(df_2)"
   ]
  },
  {
   "cell_type": "markdown",
   "metadata": {},
   "source": [
    "### Starting node BOW - Article & Headline NO - TF - Columns checking "
   ]
  },
  {
   "cell_type": "code",
   "execution_count": 72,
   "metadata": {},
   "outputs": [],
   "source": [
    "columns = df_2.columns "
   ]
  },
  {
   "cell_type": "code",
   "execution_count": 73,
   "metadata": {},
   "outputs": [
    {
     "output_type": "execute_result",
     "data": {
      "text/plain": "Index(['stories_id', 'publish_date', 'title', 'url', 'language',\n       'ap_syndicated', 'themes', 'media_id', 'media_name', 'media_url',\n       'scraped_article', 'title_FB_only', 'BOG', 'date', 'translateda_mix',\n       'translateda_headline', 'translateda_mix_cleaned',\n       'translateda_headline_cleaned', 'translateda_mix_dic',\n       'translateda_headline_dic'],\n      dtype='object')"
     },
     "metadata": {},
     "execution_count": 73
    }
   ],
   "source": [
    "columns [0:20]"
   ]
  },
  {
   "cell_type": "code",
   "execution_count": 74,
   "metadata": {},
   "outputs": [
    {
     "output_type": "execute_result",
     "data": {
      "text/plain": "Index(['', 'landlord', 'adore', 'persuasive', 'annual', 'query', 'light',\n       'decliner', 'hurtful', 'mismatch',\n       ...\n       'wallet', 'intrusive', 'diversity', 'subside', 'prompt', 'unseal',\n       'attentive', 'barn', 'pigeon', 'eu'],\n      dtype='object', length=10030)"
     },
     "metadata": {},
     "execution_count": 74
    }
   ],
   "source": [
    "columns[20:]"
   ]
  },
  {
   "cell_type": "code",
   "execution_count": 75,
   "metadata": {},
   "outputs": [],
   "source": [
    "bid_list = list(df_2['media_name'].unique()) +['barrons','bloomberg','financial times','marketwatch','twitter','reuters']"
   ]
  },
  {
   "cell_type": "code",
   "execution_count": 76,
   "metadata": {},
   "outputs": [],
   "source": [
    "import re \n",
    "## check if the string contains speical charaters\n",
    "def run(string): \n",
    "# Make own character set and pass  \n",
    "# this as argument in compile method \n",
    "    regex = re.compile('[@_!#$%^&*()<>?/\\|}{~:]') \n",
    "    # Pass the string in search  \n",
    "    # method of regex object.     \n",
    "    if(regex.search(string) == None): \n",
    "        #print(\"String is accepted\") \n",
    "        return True \n",
    "    else: \n",
    "        print(\"Column \" + string + \" is not accepted.\") \n",
    "        return False "
   ]
  },
  {
   "cell_type": "code",
   "execution_count": 77,
   "metadata": {},
   "outputs": [],
   "source": [
    "def hasNumbers(inputString):\n",
    "    if any(char.isdigit() for char in inputString) == True: \n",
    "        print('Column ' + inputString + \" is not accepted.\" )\n",
    "        return True \n",
    "    else: \n",
    "        return False "
   ]
  },
  {
   "cell_type": "code",
   "execution_count": 78,
   "metadata": {
    "tags": []
   },
   "outputs": [
    {
     "output_type": "stream",
     "name": "stdout",
     "text": "\nah\nmu\nna\nyo\nha\nca\nli\nxi\ner\nem\ntwitter\nde\nse\njo\nom\nai\nio\nes\nka\nhi\nla\num\nur\nsi\nie\nen\npi\nbu\nus\nun\nge\nst\nth\nyr\nea\nel\nwi\ndi\nko\nym\noh\ngo\npa\nho\nos\nid\nda\nfa\nye\nne\nte\nba\nsa\neh\nal\nwo\nlo\nex\nad\nga\nce\naa\nfe\nya\nwa\nmi\nmo\nar\nak\neu\n9959\n"
    }
   ],
   "source": [
    "column_tb_check = list(columns[20:])\n",
    "fianlised_cols = []\n",
    "for col in column_tb_check: \n",
    "    if run(col) == True: \n",
    "        if hasNumbers(col) == False: \n",
    "            if len(col) > 2:\n",
    "                if col not in bid_list: \n",
    "                   fianlised_cols.append(col)\n",
    "\n",
    "                else: \n",
    "                    print(col)\n",
    "            else: \n",
    "                print(col)\n",
    "print(len(fianlised_cols))"
   ]
  },
  {
   "cell_type": "code",
   "execution_count": 79,
   "metadata": {
    "tags": []
   },
   "outputs": [
    {
     "output_type": "stream",
     "name": "stdout",
     "text": "9979\n"
    }
   ],
   "source": [
    "final_total_col = list(columns[0:20]) + fianlised_cols\n",
    "print(len(final_total_col))"
   ]
  },
  {
   "cell_type": "code",
   "execution_count": 80,
   "metadata": {
    "tags": []
   },
   "outputs": [
    {
     "output_type": "stream",
     "name": "stdout",
     "text": "9979\n"
    }
   ],
   "source": [
    "df_3 = df_2[final_total_col]\n",
    "print(len(df_3.columns))"
   ]
  },
  {
   "cell_type": "code",
   "execution_count": 81,
   "metadata": {},
   "outputs": [],
   "source": [
    "columns_df_2 = list(df_2.columns)"
   ]
  },
  {
   "cell_type": "code",
   "execution_count": 82,
   "metadata": {},
   "outputs": [
    {
     "output_type": "execute_result",
     "data": {
      "text/plain": "   stories_id        publish_date  title  \\\n0   865782065 2015-01-03 18:12:00    0.0   \n1   335784736 2015-01-07 07:23:39    0.0   \n2   335817091 2015-01-07 12:32:58    0.0   \n3   320258910 2015-01-15 21:39:09    0.0   \n4   372077690 2015-01-24 07:00:00    0.0   \n\n                                                 url  language  ap_syndicated  \\\n0  https://twitter.com/TheRalphRetort/status/5515...       0.0          False   \n1  https://twitter.com/TheMurdochTimes/status/552...       0.0          False   \n2  https://twitter.com/teleSURtv/status/552880585...       0.0          False   \n3  https://twitter.com/StopPatriarchy/status/5559...       0.0          False   \n4                           https://archive.is/ArtrI       0.0          False   \n\n                       themes  media_id media_name           media_url  ...  \\\n0                         NaN     18346    Twitter  http://twitter.com  ...   \n1                         NaN     18346    Twitter  http://twitter.com  ...   \n2                         NaN     18346    Twitter  http://twitter.com  ...   \n3                         NaN     18346    Twitter  http://twitter.com  ...   \n4  computers and the internet     18346    Twitter  http://twitter.com  ...   \n\n  shake wallet intrusive  diversity subside prompt unseal attentive barn  \\\n0   0.0    0.0       0.0        0.0     0.0    0.0    0.0       0.0  0.0   \n1   0.0    0.0       0.0        0.0     0.0    0.0    0.0       0.0  0.0   \n2   0.0    0.0       0.0        0.0     0.0    0.0    0.0       0.0  0.0   \n3   0.0    0.0       0.0        0.0     0.0    0.0    0.0       0.0  0.0   \n4   0.0    0.0       0.0        0.0     0.0    0.0    0.0       0.0  0.0   \n\n  pigeon  \n0    0.0  \n1    0.0  \n2    0.0  \n3    0.0  \n4    0.0  \n\n[5 rows x 9979 columns]",
      "text/html": "<div>\n<style scoped>\n    .dataframe tbody tr th:only-of-type {\n        vertical-align: middle;\n    }\n\n    .dataframe tbody tr th {\n        vertical-align: top;\n    }\n\n    .dataframe thead th {\n        text-align: right;\n    }\n</style>\n<table border=\"1\" class=\"dataframe\">\n  <thead>\n    <tr style=\"text-align: right;\">\n      <th></th>\n      <th>stories_id</th>\n      <th>publish_date</th>\n      <th>title</th>\n      <th>url</th>\n      <th>language</th>\n      <th>ap_syndicated</th>\n      <th>themes</th>\n      <th>media_id</th>\n      <th>media_name</th>\n      <th>media_url</th>\n      <th>...</th>\n      <th>shake</th>\n      <th>wallet</th>\n      <th>intrusive</th>\n      <th>diversity</th>\n      <th>subside</th>\n      <th>prompt</th>\n      <th>unseal</th>\n      <th>attentive</th>\n      <th>barn</th>\n      <th>pigeon</th>\n    </tr>\n  </thead>\n  <tbody>\n    <tr>\n      <th>0</th>\n      <td>865782065</td>\n      <td>2015-01-03 18:12:00</td>\n      <td>0.0</td>\n      <td>https://twitter.com/TheRalphRetort/status/5515...</td>\n      <td>0.0</td>\n      <td>False</td>\n      <td>NaN</td>\n      <td>18346</td>\n      <td>Twitter</td>\n      <td>http://twitter.com</td>\n      <td>...</td>\n      <td>0.0</td>\n      <td>0.0</td>\n      <td>0.0</td>\n      <td>0.0</td>\n      <td>0.0</td>\n      <td>0.0</td>\n      <td>0.0</td>\n      <td>0.0</td>\n      <td>0.0</td>\n      <td>0.0</td>\n    </tr>\n    <tr>\n      <th>1</th>\n      <td>335784736</td>\n      <td>2015-01-07 07:23:39</td>\n      <td>0.0</td>\n      <td>https://twitter.com/TheMurdochTimes/status/552...</td>\n      <td>0.0</td>\n      <td>False</td>\n      <td>NaN</td>\n      <td>18346</td>\n      <td>Twitter</td>\n      <td>http://twitter.com</td>\n      <td>...</td>\n      <td>0.0</td>\n      <td>0.0</td>\n      <td>0.0</td>\n      <td>0.0</td>\n      <td>0.0</td>\n      <td>0.0</td>\n      <td>0.0</td>\n      <td>0.0</td>\n      <td>0.0</td>\n      <td>0.0</td>\n    </tr>\n    <tr>\n      <th>2</th>\n      <td>335817091</td>\n      <td>2015-01-07 12:32:58</td>\n      <td>0.0</td>\n      <td>https://twitter.com/teleSURtv/status/552880585...</td>\n      <td>0.0</td>\n      <td>False</td>\n      <td>NaN</td>\n      <td>18346</td>\n      <td>Twitter</td>\n      <td>http://twitter.com</td>\n      <td>...</td>\n      <td>0.0</td>\n      <td>0.0</td>\n      <td>0.0</td>\n      <td>0.0</td>\n      <td>0.0</td>\n      <td>0.0</td>\n      <td>0.0</td>\n      <td>0.0</td>\n      <td>0.0</td>\n      <td>0.0</td>\n    </tr>\n    <tr>\n      <th>3</th>\n      <td>320258910</td>\n      <td>2015-01-15 21:39:09</td>\n      <td>0.0</td>\n      <td>https://twitter.com/StopPatriarchy/status/5559...</td>\n      <td>0.0</td>\n      <td>False</td>\n      <td>NaN</td>\n      <td>18346</td>\n      <td>Twitter</td>\n      <td>http://twitter.com</td>\n      <td>...</td>\n      <td>0.0</td>\n      <td>0.0</td>\n      <td>0.0</td>\n      <td>0.0</td>\n      <td>0.0</td>\n      <td>0.0</td>\n      <td>0.0</td>\n      <td>0.0</td>\n      <td>0.0</td>\n      <td>0.0</td>\n    </tr>\n    <tr>\n      <th>4</th>\n      <td>372077690</td>\n      <td>2015-01-24 07:00:00</td>\n      <td>0.0</td>\n      <td>https://archive.is/ArtrI</td>\n      <td>0.0</td>\n      <td>False</td>\n      <td>computers and the internet</td>\n      <td>18346</td>\n      <td>Twitter</td>\n      <td>http://twitter.com</td>\n      <td>...</td>\n      <td>0.0</td>\n      <td>0.0</td>\n      <td>0.0</td>\n      <td>0.0</td>\n      <td>0.0</td>\n      <td>0.0</td>\n      <td>0.0</td>\n      <td>0.0</td>\n      <td>0.0</td>\n      <td>0.0</td>\n    </tr>\n  </tbody>\n</table>\n<p>5 rows × 9979 columns</p>\n</div>"
     },
     "metadata": {},
     "execution_count": 82
    }
   ],
   "source": [
    "df_3.head()"
   ]
  },
  {
   "cell_type": "code",
   "execution_count": 83,
   "metadata": {},
   "outputs": [
    {
     "output_type": "execute_result",
     "data": {
      "text/plain": "            stories_id        publish_date  title  \\\ndate                                                \n2015-01-03   865782065 2015-01-03 18:12:00    0.0   \n2015-01-07   335784736 2015-01-07 07:23:39    0.0   \n2015-01-07   335817091 2015-01-07 12:32:58    0.0   \n2015-01-15   320258910 2015-01-15 21:39:09    0.0   \n2015-01-24   372077690 2015-01-24 07:00:00    0.0   \n\n                                                          url  language  \\\ndate                                                                      \n2015-01-03  https://twitter.com/TheRalphRetort/status/5515...       0.0   \n2015-01-07  https://twitter.com/TheMurdochTimes/status/552...       0.0   \n2015-01-07  https://twitter.com/teleSURtv/status/552880585...       0.0   \n2015-01-15  https://twitter.com/StopPatriarchy/status/5559...       0.0   \n2015-01-24                           https://archive.is/ArtrI       0.0   \n\n            ap_syndicated                      themes  media_id media_name  \\\ndate                                                                         \n2015-01-03          False                         NaN     18346    Twitter   \n2015-01-07          False                         NaN     18346    Twitter   \n2015-01-07          False                         NaN     18346    Twitter   \n2015-01-15          False                         NaN     18346    Twitter   \n2015-01-24          False  computers and the internet     18346    Twitter   \n\n                     media_url  ... shake wallet intrusive diversity subside  \\\ndate                            ...                                            \n2015-01-03  http://twitter.com  ...   0.0    0.0       0.0       0.0     0.0   \n2015-01-07  http://twitter.com  ...   0.0    0.0       0.0       0.0     0.0   \n2015-01-07  http://twitter.com  ...   0.0    0.0       0.0       0.0     0.0   \n2015-01-15  http://twitter.com  ...   0.0    0.0       0.0       0.0     0.0   \n2015-01-24  http://twitter.com  ...   0.0    0.0       0.0       0.0     0.0   \n\n           prompt unseal attentive barn  pigeon  \ndate                                             \n2015-01-03    0.0    0.0       0.0  0.0     0.0  \n2015-01-07    0.0    0.0       0.0  0.0     0.0  \n2015-01-07    0.0    0.0       0.0  0.0     0.0  \n2015-01-15    0.0    0.0       0.0  0.0     0.0  \n2015-01-24    0.0    0.0       0.0  0.0     0.0  \n\n[5 rows x 9978 columns]",
      "text/html": "<div>\n<style scoped>\n    .dataframe tbody tr th:only-of-type {\n        vertical-align: middle;\n    }\n\n    .dataframe tbody tr th {\n        vertical-align: top;\n    }\n\n    .dataframe thead th {\n        text-align: right;\n    }\n</style>\n<table border=\"1\" class=\"dataframe\">\n  <thead>\n    <tr style=\"text-align: right;\">\n      <th></th>\n      <th>stories_id</th>\n      <th>publish_date</th>\n      <th>title</th>\n      <th>url</th>\n      <th>language</th>\n      <th>ap_syndicated</th>\n      <th>themes</th>\n      <th>media_id</th>\n      <th>media_name</th>\n      <th>media_url</th>\n      <th>...</th>\n      <th>shake</th>\n      <th>wallet</th>\n      <th>intrusive</th>\n      <th>diversity</th>\n      <th>subside</th>\n      <th>prompt</th>\n      <th>unseal</th>\n      <th>attentive</th>\n      <th>barn</th>\n      <th>pigeon</th>\n    </tr>\n    <tr>\n      <th>date</th>\n      <th></th>\n      <th></th>\n      <th></th>\n      <th></th>\n      <th></th>\n      <th></th>\n      <th></th>\n      <th></th>\n      <th></th>\n      <th></th>\n      <th></th>\n      <th></th>\n      <th></th>\n      <th></th>\n      <th></th>\n      <th></th>\n      <th></th>\n      <th></th>\n      <th></th>\n      <th></th>\n      <th></th>\n    </tr>\n  </thead>\n  <tbody>\n    <tr>\n      <th>2015-01-03</th>\n      <td>865782065</td>\n      <td>2015-01-03 18:12:00</td>\n      <td>0.0</td>\n      <td>https://twitter.com/TheRalphRetort/status/5515...</td>\n      <td>0.0</td>\n      <td>False</td>\n      <td>NaN</td>\n      <td>18346</td>\n      <td>Twitter</td>\n      <td>http://twitter.com</td>\n      <td>...</td>\n      <td>0.0</td>\n      <td>0.0</td>\n      <td>0.0</td>\n      <td>0.0</td>\n      <td>0.0</td>\n      <td>0.0</td>\n      <td>0.0</td>\n      <td>0.0</td>\n      <td>0.0</td>\n      <td>0.0</td>\n    </tr>\n    <tr>\n      <th>2015-01-07</th>\n      <td>335784736</td>\n      <td>2015-01-07 07:23:39</td>\n      <td>0.0</td>\n      <td>https://twitter.com/TheMurdochTimes/status/552...</td>\n      <td>0.0</td>\n      <td>False</td>\n      <td>NaN</td>\n      <td>18346</td>\n      <td>Twitter</td>\n      <td>http://twitter.com</td>\n      <td>...</td>\n      <td>0.0</td>\n      <td>0.0</td>\n      <td>0.0</td>\n      <td>0.0</td>\n      <td>0.0</td>\n      <td>0.0</td>\n      <td>0.0</td>\n      <td>0.0</td>\n      <td>0.0</td>\n      <td>0.0</td>\n    </tr>\n    <tr>\n      <th>2015-01-07</th>\n      <td>335817091</td>\n      <td>2015-01-07 12:32:58</td>\n      <td>0.0</td>\n      <td>https://twitter.com/teleSURtv/status/552880585...</td>\n      <td>0.0</td>\n      <td>False</td>\n      <td>NaN</td>\n      <td>18346</td>\n      <td>Twitter</td>\n      <td>http://twitter.com</td>\n      <td>...</td>\n      <td>0.0</td>\n      <td>0.0</td>\n      <td>0.0</td>\n      <td>0.0</td>\n      <td>0.0</td>\n      <td>0.0</td>\n      <td>0.0</td>\n      <td>0.0</td>\n      <td>0.0</td>\n      <td>0.0</td>\n    </tr>\n    <tr>\n      <th>2015-01-15</th>\n      <td>320258910</td>\n      <td>2015-01-15 21:39:09</td>\n      <td>0.0</td>\n      <td>https://twitter.com/StopPatriarchy/status/5559...</td>\n      <td>0.0</td>\n      <td>False</td>\n      <td>NaN</td>\n      <td>18346</td>\n      <td>Twitter</td>\n      <td>http://twitter.com</td>\n      <td>...</td>\n      <td>0.0</td>\n      <td>0.0</td>\n      <td>0.0</td>\n      <td>0.0</td>\n      <td>0.0</td>\n      <td>0.0</td>\n      <td>0.0</td>\n      <td>0.0</td>\n      <td>0.0</td>\n      <td>0.0</td>\n    </tr>\n    <tr>\n      <th>2015-01-24</th>\n      <td>372077690</td>\n      <td>2015-01-24 07:00:00</td>\n      <td>0.0</td>\n      <td>https://archive.is/ArtrI</td>\n      <td>0.0</td>\n      <td>False</td>\n      <td>computers and the internet</td>\n      <td>18346</td>\n      <td>Twitter</td>\n      <td>http://twitter.com</td>\n      <td>...</td>\n      <td>0.0</td>\n      <td>0.0</td>\n      <td>0.0</td>\n      <td>0.0</td>\n      <td>0.0</td>\n      <td>0.0</td>\n      <td>0.0</td>\n      <td>0.0</td>\n      <td>0.0</td>\n      <td>0.0</td>\n    </tr>\n  </tbody>\n</table>\n<p>5 rows × 9978 columns</p>\n</div>"
     },
     "metadata": {},
     "execution_count": 83
    }
   ],
   "source": [
    "df_3['date'] = df_3['publish_date'].apply(lambda x: x.date())\n",
    "df_setB_node1 = df_3.set_index('date')\n",
    "df_setB_node1.head()"
   ]
  },
  {
   "cell_type": "code",
   "execution_count": null,
   "metadata": {},
   "outputs": [],
   "source": [
    "#df_setA_node1.to_csv('df_setA_node1.csv')"
   ]
  },
  {
   "cell_type": "code",
   "execution_count": 84,
   "metadata": {},
   "outputs": [],
   "source": [
    "df_setB_node1_ = df_setB_node1.groupby(df_setB_node1.index)[fianlised_cols].sum()\n",
    "df_setB_node1_.head()\n",
    "df_setB_node1_.to_csv('df_setB_node1_.csv')"
   ]
  },
  {
   "cell_type": "code",
   "execution_count": 85,
   "metadata": {},
   "outputs": [],
   "source": [
    "#df_setB_node1_.to_csv('df_setB_node1_.csv')"
   ]
  },
  {
   "cell_type": "code",
   "execution_count": 86,
   "metadata": {
    "tags": []
   },
   "outputs": [
    {
     "output_type": "stream",
     "name": "stdout",
     "text": "<class 'pandas.core.frame.DataFrame'>\nRangeIndex: 1282 entries, 0 to 1281\nData columns (total 66 columns):\n #   Column                         Non-Null Count  Dtype         \n---  ------                         --------------  -----         \n 0   date                           1282 non-null   datetime64[ns]\n 1   Facebook.wiki                  1282 non-null   int64         \n 2   Google.wiki                    1282 non-null   int64         \n 3   Microsoft.wiki                 1282 non-null   int64         \n 4   Amazon (company).wiki          1282 non-null   int64         \n 5   Apple Inc..wiki                1282 non-null   int64         \n 6   AAPL                           1282 non-null   float64       \n 7   AMZN                           1282 non-null   float64       \n 8   FB                             1282 non-null   float64       \n 9   GOOGL                          1282 non-null   float64       \n 10  MSFT                           1282 non-null   float64       \n 11  FB_return                      1282 non-null   float64       \n 12  FB_change                      1282 non-null   float64       \n 13  GOOGL_return                   1282 non-null   float64       \n 14  GOOGL_change                   1282 non-null   float64       \n 15  MSFT_return                    1282 non-null   float64       \n 16  MSFT_change                    1282 non-null   float64       \n 17  AMZN_return                    1282 non-null   float64       \n 18  AMZN_change                    1282 non-null   float64       \n 19  AAPL_return                    1282 non-null   float64       \n 20  AAPL_change                    1282 non-null   float64       \n 21  Facebook.wiki_t-1              1282 non-null   float64       \n 22  Facebook.wiki_t-2              1282 non-null   float64       \n 23  Facebook.wiki_t-3              1282 non-null   float64       \n 24  Google.wiki_t-1                1282 non-null   float64       \n 25  Google.wiki_t-2                1282 non-null   float64       \n 26  Google.wiki_t-3                1282 non-null   float64       \n 27  Microsoft.wiki_t-1             1282 non-null   float64       \n 28  Microsoft.wiki_t-2             1282 non-null   float64       \n 29  Microsoft.wiki_t-3             1282 non-null   float64       \n 30  Amazon (company).wiki_t-1      1282 non-null   float64       \n 31  Amazon (company).wiki_t-2      1282 non-null   float64       \n 32  Amazon (company).wiki_t-3      1282 non-null   float64       \n 33  Apple Inc..wiki_t-1            1282 non-null   float64       \n 34  Apple Inc..wiki_t-2            1282 non-null   float64       \n 35  Apple Inc..wiki_t-3            1282 non-null   float64       \n 36  FB_return_t-1                  1282 non-null   float64       \n 37  FB_return_t-2                  1282 non-null   float64       \n 38  FB_return_t-3                  1282 non-null   float64       \n 39  GOOGL_return_t-1               1282 non-null   float64       \n 40  GOOGL_return_t-2               1282 non-null   float64       \n 41  GOOGL_return_t-3               1282 non-null   float64       \n 42  MSFT_return_t-1                1282 non-null   float64       \n 43  MSFT_return_t-2                1282 non-null   float64       \n 44  MSFT_return_t-3                1282 non-null   float64       \n 45  AMZN_return_t-1                1282 non-null   float64       \n 46  AMZN_return_t-2                1282 non-null   float64       \n 47  AMZN_return_t-3                1282 non-null   float64       \n 48  AAPL_return_t-1                1282 non-null   float64       \n 49  AAPL_return_t-2                1282 non-null   float64       \n 50  AAPL_return_t-3                1282 non-null   float64       \n 51  Facebook.wiki_t-1_t-2          1282 non-null   float64       \n 52  Facebook.wiki_t-2_t-3          1282 non-null   float64       \n 53  Facebook.wiki_t-3_t-4          1282 non-null   float64       \n 54  Google.wiki_t-1_t-2            1282 non-null   float64       \n 55  Google.wiki_t-2_t-3            1282 non-null   float64       \n 56  Google.wiki_t-3_t-4            1282 non-null   float64       \n 57  Microsoft.wiki_t-1_t-2         1282 non-null   float64       \n 58  Microsoft.wiki_t-2_t-3         1282 non-null   float64       \n 59  Microsoft.wiki_t-3_t-4         1282 non-null   float64       \n 60  Amazon (company).wiki_t-1_t-2  1282 non-null   float64       \n 61  Amazon (company).wiki_t-2_t-3  1282 non-null   float64       \n 62  Amazon (company).wiki_t-3_t-4  1282 non-null   float64       \n 63  Apple Inc..wiki_t-1_t-2        1282 non-null   float64       \n 64  Apple Inc..wiki_t-2_t-3        1282 non-null   float64       \n 65  Apple Inc..wiki_t-3_t-4        1282 non-null   float64       \ndtypes: datetime64[ns](1), float64(60), int64(5)\nmemory usage: 661.2 KB\n"
    }
   ],
   "source": [
    "#f = f.set_index('date')\n",
    "f.info()"
   ]
  },
  {
   "cell_type": "code",
   "execution_count": 87,
   "metadata": {},
   "outputs": [
    {
     "output_type": "execute_result",
     "data": {
      "text/plain": "        date  Facebook.wiki  Google.wiki  Microsoft.wiki  \\\n0 2015-07-08          45403        45521           10472   \n1 2015-07-09          47202        43295            9806   \n2 2015-07-10          46622        42652            7816   \n3 2015-07-13          47063        44437            7857   \n4 2015-07-14          44508        45269            7314   \n\n   Amazon (company).wiki  Apple Inc..wiki        AAPL        AMZN         FB  \\\n0                      1            14554  112.758286  429.700012  85.650002   \n1                      1            13725  110.458405  434.390015  85.879997   \n2                      0            12394  113.411430  443.510010  87.949997   \n3                      2            12479  115.600922  455.570007  90.099998   \n4                      0            11447  115.554909  465.570007  89.680000   \n\n        GOOGL  ...  shake  wallet  intrusive  diversity  subside  prompt  \\\n0  541.700012  ...    0.0     0.0        0.0        0.0      0.0     0.0   \n1  544.650024  ...    0.0     0.0        0.0        0.0      0.0     0.0   \n2  556.109985  ...    0.0     0.0        0.0        0.0      0.0     0.0   \n3  571.729980  ...    0.0     0.0        0.0        0.0      0.0     0.0   \n4  584.179993  ...    0.0     0.0        0.0        0.0      0.0     0.0   \n\n   unseal  attentive  barn  pigeon  \n0     0.0        0.0   0.0     0.0  \n1     0.0        0.0   0.0     0.0  \n2     0.0        0.0   0.0     0.0  \n3     0.0        0.0   0.0     0.0  \n4     0.0        0.0   0.0     0.0  \n\n[5 rows x 10025 columns]",
      "text/html": "<div>\n<style scoped>\n    .dataframe tbody tr th:only-of-type {\n        vertical-align: middle;\n    }\n\n    .dataframe tbody tr th {\n        vertical-align: top;\n    }\n\n    .dataframe thead th {\n        text-align: right;\n    }\n</style>\n<table border=\"1\" class=\"dataframe\">\n  <thead>\n    <tr style=\"text-align: right;\">\n      <th></th>\n      <th>date</th>\n      <th>Facebook.wiki</th>\n      <th>Google.wiki</th>\n      <th>Microsoft.wiki</th>\n      <th>Amazon (company).wiki</th>\n      <th>Apple Inc..wiki</th>\n      <th>AAPL</th>\n      <th>AMZN</th>\n      <th>FB</th>\n      <th>GOOGL</th>\n      <th>...</th>\n      <th>shake</th>\n      <th>wallet</th>\n      <th>intrusive</th>\n      <th>diversity</th>\n      <th>subside</th>\n      <th>prompt</th>\n      <th>unseal</th>\n      <th>attentive</th>\n      <th>barn</th>\n      <th>pigeon</th>\n    </tr>\n  </thead>\n  <tbody>\n    <tr>\n      <th>0</th>\n      <td>2015-07-08</td>\n      <td>45403</td>\n      <td>45521</td>\n      <td>10472</td>\n      <td>1</td>\n      <td>14554</td>\n      <td>112.758286</td>\n      <td>429.700012</td>\n      <td>85.650002</td>\n      <td>541.700012</td>\n      <td>...</td>\n      <td>0.0</td>\n      <td>0.0</td>\n      <td>0.0</td>\n      <td>0.0</td>\n      <td>0.0</td>\n      <td>0.0</td>\n      <td>0.0</td>\n      <td>0.0</td>\n      <td>0.0</td>\n      <td>0.0</td>\n    </tr>\n    <tr>\n      <th>1</th>\n      <td>2015-07-09</td>\n      <td>47202</td>\n      <td>43295</td>\n      <td>9806</td>\n      <td>1</td>\n      <td>13725</td>\n      <td>110.458405</td>\n      <td>434.390015</td>\n      <td>85.879997</td>\n      <td>544.650024</td>\n      <td>...</td>\n      <td>0.0</td>\n      <td>0.0</td>\n      <td>0.0</td>\n      <td>0.0</td>\n      <td>0.0</td>\n      <td>0.0</td>\n      <td>0.0</td>\n      <td>0.0</td>\n      <td>0.0</td>\n      <td>0.0</td>\n    </tr>\n    <tr>\n      <th>2</th>\n      <td>2015-07-10</td>\n      <td>46622</td>\n      <td>42652</td>\n      <td>7816</td>\n      <td>0</td>\n      <td>12394</td>\n      <td>113.411430</td>\n      <td>443.510010</td>\n      <td>87.949997</td>\n      <td>556.109985</td>\n      <td>...</td>\n      <td>0.0</td>\n      <td>0.0</td>\n      <td>0.0</td>\n      <td>0.0</td>\n      <td>0.0</td>\n      <td>0.0</td>\n      <td>0.0</td>\n      <td>0.0</td>\n      <td>0.0</td>\n      <td>0.0</td>\n    </tr>\n    <tr>\n      <th>3</th>\n      <td>2015-07-13</td>\n      <td>47063</td>\n      <td>44437</td>\n      <td>7857</td>\n      <td>2</td>\n      <td>12479</td>\n      <td>115.600922</td>\n      <td>455.570007</td>\n      <td>90.099998</td>\n      <td>571.729980</td>\n      <td>...</td>\n      <td>0.0</td>\n      <td>0.0</td>\n      <td>0.0</td>\n      <td>0.0</td>\n      <td>0.0</td>\n      <td>0.0</td>\n      <td>0.0</td>\n      <td>0.0</td>\n      <td>0.0</td>\n      <td>0.0</td>\n    </tr>\n    <tr>\n      <th>4</th>\n      <td>2015-07-14</td>\n      <td>44508</td>\n      <td>45269</td>\n      <td>7314</td>\n      <td>0</td>\n      <td>11447</td>\n      <td>115.554909</td>\n      <td>465.570007</td>\n      <td>89.680000</td>\n      <td>584.179993</td>\n      <td>...</td>\n      <td>0.0</td>\n      <td>0.0</td>\n      <td>0.0</td>\n      <td>0.0</td>\n      <td>0.0</td>\n      <td>0.0</td>\n      <td>0.0</td>\n      <td>0.0</td>\n      <td>0.0</td>\n      <td>0.0</td>\n    </tr>\n  </tbody>\n</table>\n<p>5 rows × 10025 columns</p>\n</div>"
     },
     "metadata": {},
     "execution_count": 87
    }
   ],
   "source": [
    "data_setB_node1 = f.merge(df_setB_node1_, left_index = True, right_index = True, how = 'left')\n",
    "data_setB_node1 = data_setB_node1.fillna(0)\n",
    "data_setB_node1.head()\n",
    "#data_setB_node1.to_csv('data_setB_node1.csv')"
   ]
  },
  {
   "cell_type": "code",
   "execution_count": 89,
   "metadata": {},
   "outputs": [],
   "source": [
    "data_setB_node1.to_csv('data_setB_node1.csv')"
   ]
  },
  {
   "cell_type": "markdown",
   "metadata": {},
   "source": [
    "## SET A Node 2 - Headline "
   ]
  },
  {
   "cell_type": "code",
   "execution_count": 90,
   "metadata": {},
   "outputs": [],
   "source": [
    "#def TFIDF (string): \n",
    "def tf(string): \n",
    "    vec = TfidfVectorizer(use_idf=False)\n",
    "    analysed = vec.fit_transform([string])\n",
    "    return {u:v for (u, v) in zip(vec.get_feature_names(),analysed.toarray().tolist()[0])}"
   ]
  },
  {
   "cell_type": "code",
   "execution_count": 91,
   "metadata": {},
   "outputs": [],
   "source": [
    "df_2 = pd.read_csv('df_transed_cleaned.csv').drop(columns = ['Unnamed: 0'])\n",
    "df_2['publish_date'] = pd.to_datetime(df_2['publish_date'])"
   ]
  },
  {
   "cell_type": "code",
   "execution_count": 92,
   "metadata": {},
   "outputs": [],
   "source": [
    "df_2['translateda_mix_cleaned'] = df_2['translateda_mix_cleaned'].astype(str)\n",
    "df_2['translateda_headline_cleaned'] = df_2['translateda_headline_cleaned'].astype(str)\n",
    "df_2['translateda_mix_dic'] = df_2['translateda_mix_cleaned'].apply(lambda x: tf(x))\n",
    "df_2['translateda_headline_dic'] = df_2['translateda_headline_cleaned'].apply(lambda x: tf(x))"
   ]
  },
  {
   "cell_type": "code",
   "execution_count": 93,
   "metadata": {},
   "outputs": [
    {
     "output_type": "execute_result",
     "data": {
      "text/plain": "   stories_id        publish_date  \\\n0   865782065 2015-01-03 18:12:00   \n1   335784736 2015-01-07 07:23:39   \n2   335817091 2015-01-07 12:32:58   \n3   320258910 2015-01-15 21:39:09   \n4   372077690 2015-01-24 07:00:00   \n\n                                               title  \\\n0  Ethan Ralph on Twitter: \"#GamerGate Ultras ove...   \n1  The Daily Rupert  on Twitter: &quot;Facebook v...   \n2  teleSUR TV on Twitter: &quot;El Festival de Ca...   \n3  Stop Patriarchy on Twitter: &quot;Tune in to n...   \n4  Blocker (Mr. Fart) on Twitter: &quot;#GamerGat...   \n\n                                                 url language  ap_syndicated  \\\n0  https://twitter.com/TheRalphRetort/status/5515...       en          False   \n1  https://twitter.com/TheMurdochTimes/status/552...       en          False   \n2  https://twitter.com/teleSURtv/status/552880585...       en          False   \n3  https://twitter.com/StopPatriarchy/status/5559...       en          False   \n4                           https://archive.is/ArtrI       en          False   \n\n                       themes  media_id media_name           media_url  \\\n0                         NaN     18346    Twitter  http://twitter.com   \n1                         NaN     18346    Twitter  http://twitter.com   \n2                         NaN     18346    Twitter  http://twitter.com   \n3                         NaN     18346    Twitter  http://twitter.com   \n4  computers and the internet     18346    Twitter  http://twitter.com   \n\n                                     scraped_article title_FB_only  BOG  \\\n0  Ethan Ralph on Twitter: \"#GamerGate Ultras ove...           NaN  NaN   \n1  The Daily Rupert  on Twitter: &quot;Facebook v...           NaN  NaN   \n2  teleSUR TV on Twitter: &quot;El Festival de Ca...           NaN  NaN   \n3  Stop Patriarchy on Twitter: &quot;Tune in to n...           NaN  NaN   \n4  Blocker (Mr. Fart) on Twitter: &quot;#GamerGat...           NaN  NaN   \n\n         date                                    translateda_mix  \\\n0  2015-01-03  Ethan Ralph on Twitter: \"#GamerGate Ultras ove...   \n1  2015-01-07  The Daily Rupert  on Twitter: &quot;Facebook v...   \n2  2015-01-07  teleSUR TV on Twitter: &quot;El Festival de Ca...   \n3  2015-01-15  Stop Patriarchy on Twitter: &quot;Tune in to n...   \n4  2015-01-24  Blocker (Mr. Fart) on Twitter: &quot;#GamerGat...   \n\n                                translateda_headline  \\\n0  Ethan Ralph on Twitter: \"#GamerGate Ultras ove...   \n1  The Daily Rupert  on Twitter: &quot;Facebook v...   \n2  teleSUR TV on Twitter: &quot;El Festival de Ca...   \n3  Stop Patriarchy on Twitter: &quot;Tune in to n...   \n4  Blocker (Mr. Fart) on Twitter: &quot;#GamerGat...   \n\n                             translateda_mix_cleaned  \\\n0                  ralph twitter appreciate big help   \n1  daily twitter video image terrorist outside of...   \n2                          twitter festival de en en   \n3                 stop patriarchy twitter join event   \n4  blocker twitter kop could not keep mouth shut ...   \n\n                        translateda_headline_cleaned  \\\n0                  ralph twitter appreciate big help   \n1  daily twitter video image terrorist outside of...   \n2                          twitter festival de en en   \n3                 stop patriarchy twitter join event   \n4  blocker twitter kop could not keep mouth shut ...   \n\n                                 translateda_mix_dic  \\\n0  {'appreciate': 0.4472135954999579, 'big': 0.44...   \n1  {'attack': 0.30151134457776363, 'daily': 0.301...   \n2  {'de': 0.3779644730092272, 'en': 0.75592894601...   \n3  {'event': 0.4472135954999579, 'join': 0.447213...   \n4  {'blocker': 0.30151134457776363, 'confirm': 0....   \n\n                            translateda_headline_dic  \n0  {'appreciate': 0.4472135954999579, 'big': 0.44...  \n1  {'attack': 0.30151134457776363, 'daily': 0.301...  \n2  {'de': 0.3779644730092272, 'en': 0.75592894601...  \n3  {'event': 0.4472135954999579, 'join': 0.447213...  \n4  {'blocker': 0.30151134457776363, 'confirm': 0....  ",
      "text/html": "<div>\n<style scoped>\n    .dataframe tbody tr th:only-of-type {\n        vertical-align: middle;\n    }\n\n    .dataframe tbody tr th {\n        vertical-align: top;\n    }\n\n    .dataframe thead th {\n        text-align: right;\n    }\n</style>\n<table border=\"1\" class=\"dataframe\">\n  <thead>\n    <tr style=\"text-align: right;\">\n      <th></th>\n      <th>stories_id</th>\n      <th>publish_date</th>\n      <th>title</th>\n      <th>url</th>\n      <th>language</th>\n      <th>ap_syndicated</th>\n      <th>themes</th>\n      <th>media_id</th>\n      <th>media_name</th>\n      <th>media_url</th>\n      <th>scraped_article</th>\n      <th>title_FB_only</th>\n      <th>BOG</th>\n      <th>date</th>\n      <th>translateda_mix</th>\n      <th>translateda_headline</th>\n      <th>translateda_mix_cleaned</th>\n      <th>translateda_headline_cleaned</th>\n      <th>translateda_mix_dic</th>\n      <th>translateda_headline_dic</th>\n    </tr>\n  </thead>\n  <tbody>\n    <tr>\n      <th>0</th>\n      <td>865782065</td>\n      <td>2015-01-03 18:12:00</td>\n      <td>Ethan Ralph on Twitter: \"#GamerGate Ultras ove...</td>\n      <td>https://twitter.com/TheRalphRetort/status/5515...</td>\n      <td>en</td>\n      <td>False</td>\n      <td>NaN</td>\n      <td>18346</td>\n      <td>Twitter</td>\n      <td>http://twitter.com</td>\n      <td>Ethan Ralph on Twitter: \"#GamerGate Ultras ove...</td>\n      <td>NaN</td>\n      <td>NaN</td>\n      <td>2015-01-03</td>\n      <td>Ethan Ralph on Twitter: \"#GamerGate Ultras ove...</td>\n      <td>Ethan Ralph on Twitter: \"#GamerGate Ultras ove...</td>\n      <td>ralph twitter appreciate big help</td>\n      <td>ralph twitter appreciate big help</td>\n      <td>{'appreciate': 0.4472135954999579, 'big': 0.44...</td>\n      <td>{'appreciate': 0.4472135954999579, 'big': 0.44...</td>\n    </tr>\n    <tr>\n      <th>1</th>\n      <td>335784736</td>\n      <td>2015-01-07 07:23:39</td>\n      <td>The Daily Rupert  on Twitter: &amp;quot;Facebook v...</td>\n      <td>https://twitter.com/TheMurdochTimes/status/552...</td>\n      <td>en</td>\n      <td>False</td>\n      <td>NaN</td>\n      <td>18346</td>\n      <td>Twitter</td>\n      <td>http://twitter.com</td>\n      <td>The Daily Rupert  on Twitter: &amp;quot;Facebook v...</td>\n      <td>NaN</td>\n      <td>NaN</td>\n      <td>2015-01-07</td>\n      <td>The Daily Rupert  on Twitter: &amp;quot;Facebook v...</td>\n      <td>The Daily Rupert  on Twitter: &amp;quot;Facebook v...</td>\n      <td>daily twitter video image terrorist outside of...</td>\n      <td>daily twitter video image terrorist outside of...</td>\n      <td>{'attack': 0.30151134457776363, 'daily': 0.301...</td>\n      <td>{'attack': 0.30151134457776363, 'daily': 0.301...</td>\n    </tr>\n    <tr>\n      <th>2</th>\n      <td>335817091</td>\n      <td>2015-01-07 12:32:58</td>\n      <td>teleSUR TV on Twitter: &amp;quot;El Festival de Ca...</td>\n      <td>https://twitter.com/teleSURtv/status/552880585...</td>\n      <td>en</td>\n      <td>False</td>\n      <td>NaN</td>\n      <td>18346</td>\n      <td>Twitter</td>\n      <td>http://twitter.com</td>\n      <td>teleSUR TV on Twitter: &amp;quot;El Festival de Ca...</td>\n      <td>NaN</td>\n      <td>NaN</td>\n      <td>2015-01-07</td>\n      <td>teleSUR TV on Twitter: &amp;quot;El Festival de Ca...</td>\n      <td>teleSUR TV on Twitter: &amp;quot;El Festival de Ca...</td>\n      <td>twitter festival de en en</td>\n      <td>twitter festival de en en</td>\n      <td>{'de': 0.3779644730092272, 'en': 0.75592894601...</td>\n      <td>{'de': 0.3779644730092272, 'en': 0.75592894601...</td>\n    </tr>\n    <tr>\n      <th>3</th>\n      <td>320258910</td>\n      <td>2015-01-15 21:39:09</td>\n      <td>Stop Patriarchy on Twitter: &amp;quot;Tune in to n...</td>\n      <td>https://twitter.com/StopPatriarchy/status/5559...</td>\n      <td>en</td>\n      <td>False</td>\n      <td>NaN</td>\n      <td>18346</td>\n      <td>Twitter</td>\n      <td>http://twitter.com</td>\n      <td>Stop Patriarchy on Twitter: &amp;quot;Tune in to n...</td>\n      <td>NaN</td>\n      <td>NaN</td>\n      <td>2015-01-15</td>\n      <td>Stop Patriarchy on Twitter: &amp;quot;Tune in to n...</td>\n      <td>Stop Patriarchy on Twitter: &amp;quot;Tune in to n...</td>\n      <td>stop patriarchy twitter join event</td>\n      <td>stop patriarchy twitter join event</td>\n      <td>{'event': 0.4472135954999579, 'join': 0.447213...</td>\n      <td>{'event': 0.4472135954999579, 'join': 0.447213...</td>\n    </tr>\n    <tr>\n      <th>4</th>\n      <td>372077690</td>\n      <td>2015-01-24 07:00:00</td>\n      <td>Blocker (Mr. Fart) on Twitter: &amp;quot;#GamerGat...</td>\n      <td>https://archive.is/ArtrI</td>\n      <td>en</td>\n      <td>False</td>\n      <td>computers and the internet</td>\n      <td>18346</td>\n      <td>Twitter</td>\n      <td>http://twitter.com</td>\n      <td>Blocker (Mr. Fart) on Twitter: &amp;quot;#GamerGat...</td>\n      <td>NaN</td>\n      <td>NaN</td>\n      <td>2015-01-24</td>\n      <td>Blocker (Mr. Fart) on Twitter: &amp;quot;#GamerGat...</td>\n      <td>Blocker (Mr. Fart) on Twitter: &amp;quot;#GamerGat...</td>\n      <td>blocker twitter kop could not keep mouth shut ...</td>\n      <td>blocker twitter kop could not keep mouth shut ...</td>\n      <td>{'blocker': 0.30151134457776363, 'confirm': 0....</td>\n      <td>{'blocker': 0.30151134457776363, 'confirm': 0....</td>\n    </tr>\n  </tbody>\n</table>\n</div>"
     },
     "metadata": {},
     "execution_count": 93
    }
   ],
   "source": [
    "df_2.head()"
   ]
  },
  {
   "cell_type": "code",
   "execution_count": 94,
   "metadata": {
    "tags": []
   },
   "outputs": [
    {
     "output_type": "stream",
     "name": "stdout",
     "text": "<class 'pandas.core.frame.DataFrame'>\nRangeIndex: 7732 entries, 0 to 7731\nData columns (total 20 columns):\n #   Column                        Non-Null Count  Dtype         \n---  ------                        --------------  -----         \n 0   stories_id                    7732 non-null   int64         \n 1   publish_date                  7729 non-null   datetime64[ns]\n 2   title                         7732 non-null   object        \n 3   url                           7732 non-null   object        \n 4   language                      7716 non-null   object        \n 5   ap_syndicated                 7732 non-null   bool          \n 6   themes                        1478 non-null   object        \n 7   media_id                      7732 non-null   int64         \n 8   media_name                    7732 non-null   object        \n 9   media_url                     7732 non-null   object        \n 10  scraped_article               7732 non-null   object        \n 11  title_FB_only                 3928 non-null   object        \n 12  BOG                           3928 non-null   object        \n 13  date                          7729 non-null   object        \n 14  translateda_mix               7732 non-null   object        \n 15  translateda_headline          7732 non-null   object        \n 16  translateda_mix_cleaned       7732 non-null   object        \n 17  translateda_headline_cleaned  7732 non-null   object        \n 18  translateda_mix_dic           7732 non-null   object        \n 19  translateda_headline_dic      7732 non-null   object        \ndtypes: bool(1), datetime64[ns](1), int64(2), object(16)\nmemory usage: 1.1+ MB\n"
    }
   ],
   "source": [
    "df_2.info()"
   ]
  },
  {
   "cell_type": "code",
   "execution_count": 95,
   "metadata": {},
   "outputs": [],
   "source": [
    "def bog_trans_idf(df_2, col = 'translateda_headline_dic'): \n",
    "    ## generate the string \n",
    "    total_string = \"\"\n",
    "    for item in list(df_2[col].values):\n",
    "        total_string += \" \" + \" \".join(list(item.keys()))\n",
    "    total_list = [x for x in total_string.split(' ')]\n",
    "    BOW = set(total_list)\n",
    "    \n",
    "    ## generate the dictrionary \n",
    "    result = dict.fromkeys(BOW, [0]*len(df_2[col]))\n",
    "\n",
    "    ## get the result \n",
    "    lis = df_2[col].values.flatten()\n",
    "\n",
    "    for i in range(len(lis)): \n",
    "        for key in lis[i].keys(): \n",
    "            result[key][i] = lis[i][key]\n",
    "\n",
    "    total_docs = df_2.shape[0]\n",
    "\n",
    "    for key in result.keys(): \n",
    "        count_of_zero = result[key].count(0)\n",
    "        df_2[key] =  [x * float(np.log(total_docs/(total_docs - count_of_zero))) for x in result[key]]\n",
    "\n",
    "    return df_2"
   ]
  },
  {
   "cell_type": "code",
   "execution_count": 96,
   "metadata": {
    "tags": []
   },
   "outputs": [
    {
     "output_type": "stream",
     "name": "stdout",
     "text": "6472\n"
    }
   ],
   "source": [
    "df_2 = bog_trans_idf(df_2, col = 'translateda_headline_dic')\n",
    "print(len(df_2.columns))"
   ]
  },
  {
   "cell_type": "code",
   "execution_count": 97,
   "metadata": {},
   "outputs": [],
   "source": [
    "columns = df_2.columns"
   ]
  },
  {
   "cell_type": "code",
   "execution_count": 98,
   "metadata": {
    "tags": []
   },
   "outputs": [
    {
     "output_type": "stream",
     "name": "stdout",
     "text": "\nah\nna\nyo\nha\nca\nli\nxi\ner\nem\ntwitter\nde\nse\njo\nom\nai\nka\nhi\nla\num\nur\nsi\nie\nen\nus\nun\nge\nst\nth\nyr\nea\nel\nwi\ndi\noh\ngo\npa\nos\nid\nda\nfa\nne\nte\nba\nsa\neh\nal\nwo\nlo\nex\nad\nga\nce\nfe\nya\nwa\nmi\nar\nak\neu\n6392\n"
    }
   ],
   "source": [
    "column_tb_check = list(columns[20:])\n",
    "fianlised_cols = []\n",
    "for col in column_tb_check: \n",
    "    if run(col) == True: \n",
    "        if hasNumbers(col) == False: \n",
    "            if len(col) > 2:\n",
    "                if col not in bid_list: \n",
    "                   fianlised_cols.append(col)\n",
    "\n",
    "                else: \n",
    "                    print(col)\n",
    "            else: \n",
    "                print(col)\n",
    "print(len(fianlised_cols))"
   ]
  },
  {
   "cell_type": "code",
   "execution_count": 99,
   "metadata": {
    "tags": []
   },
   "outputs": [
    {
     "output_type": "stream",
     "name": "stdout",
     "text": "6412\n"
    }
   ],
   "source": [
    "final_total_col = list(columns[0:20]) + fianlised_cols\n",
    "print(len(final_total_col))"
   ]
  },
  {
   "cell_type": "code",
   "execution_count": 100,
   "metadata": {
    "tags": []
   },
   "outputs": [
    {
     "output_type": "stream",
     "name": "stdout",
     "text": "6412\n"
    }
   ],
   "source": [
    "df_3 = df_2[final_total_col]\n",
    "print(len(df_3.columns))"
   ]
  },
  {
   "cell_type": "code",
   "execution_count": 101,
   "metadata": {},
   "outputs": [
    {
     "output_type": "execute_result",
     "data": {
      "text/plain": "   stories_id        publish_date  title  \\\n0   865782065 2015-01-03 18:12:00    0.0   \n1   335784736 2015-01-07 07:23:39    0.0   \n2   335817091 2015-01-07 12:32:58    0.0   \n3   320258910 2015-01-15 21:39:09    0.0   \n4   372077690 2015-01-24 07:00:00    0.0   \n\n                                                 url  language  ap_syndicated  \\\n0  https://twitter.com/TheRalphRetort/status/5515...       0.0          False   \n1  https://twitter.com/TheMurdochTimes/status/552...       0.0          False   \n2  https://twitter.com/teleSURtv/status/552880585...       0.0          False   \n3  https://twitter.com/StopPatriarchy/status/5559...       0.0          False   \n4                           https://archive.is/ArtrI       0.0          False   \n\n                       themes  media_id media_name           media_url  ...  \\\n0                         NaN     18346    Twitter  http://twitter.com  ...   \n1                         NaN     18346    Twitter  http://twitter.com  ...   \n2                         NaN     18346    Twitter  http://twitter.com  ...   \n3                         NaN     18346    Twitter  http://twitter.com  ...   \n4  computers and the internet     18346    Twitter  http://twitter.com  ...   \n\n  misleading disproportionate york  shake wallet intrusive diversity prompt  \\\n0        0.0              0.0  0.0    0.0    0.0       0.0       0.0    0.0   \n1        0.0              0.0  0.0    0.0    0.0       0.0       0.0    0.0   \n2        0.0              0.0  0.0    0.0    0.0       0.0       0.0    0.0   \n3        0.0              0.0  0.0    0.0    0.0       0.0       0.0    0.0   \n4        0.0              0.0  0.0    0.0    0.0       0.0       0.0    0.0   \n\n  attentive pigeon  \n0       0.0    0.0  \n1       0.0    0.0  \n2       0.0    0.0  \n3       0.0    0.0  \n4       0.0    0.0  \n\n[5 rows x 6412 columns]",
      "text/html": "<div>\n<style scoped>\n    .dataframe tbody tr th:only-of-type {\n        vertical-align: middle;\n    }\n\n    .dataframe tbody tr th {\n        vertical-align: top;\n    }\n\n    .dataframe thead th {\n        text-align: right;\n    }\n</style>\n<table border=\"1\" class=\"dataframe\">\n  <thead>\n    <tr style=\"text-align: right;\">\n      <th></th>\n      <th>stories_id</th>\n      <th>publish_date</th>\n      <th>title</th>\n      <th>url</th>\n      <th>language</th>\n      <th>ap_syndicated</th>\n      <th>themes</th>\n      <th>media_id</th>\n      <th>media_name</th>\n      <th>media_url</th>\n      <th>...</th>\n      <th>misleading</th>\n      <th>disproportionate</th>\n      <th>york</th>\n      <th>shake</th>\n      <th>wallet</th>\n      <th>intrusive</th>\n      <th>diversity</th>\n      <th>prompt</th>\n      <th>attentive</th>\n      <th>pigeon</th>\n    </tr>\n  </thead>\n  <tbody>\n    <tr>\n      <th>0</th>\n      <td>865782065</td>\n      <td>2015-01-03 18:12:00</td>\n      <td>0.0</td>\n      <td>https://twitter.com/TheRalphRetort/status/5515...</td>\n      <td>0.0</td>\n      <td>False</td>\n      <td>NaN</td>\n      <td>18346</td>\n      <td>Twitter</td>\n      <td>http://twitter.com</td>\n      <td>...</td>\n      <td>0.0</td>\n      <td>0.0</td>\n      <td>0.0</td>\n      <td>0.0</td>\n      <td>0.0</td>\n      <td>0.0</td>\n      <td>0.0</td>\n      <td>0.0</td>\n      <td>0.0</td>\n      <td>0.0</td>\n    </tr>\n    <tr>\n      <th>1</th>\n      <td>335784736</td>\n      <td>2015-01-07 07:23:39</td>\n      <td>0.0</td>\n      <td>https://twitter.com/TheMurdochTimes/status/552...</td>\n      <td>0.0</td>\n      <td>False</td>\n      <td>NaN</td>\n      <td>18346</td>\n      <td>Twitter</td>\n      <td>http://twitter.com</td>\n      <td>...</td>\n      <td>0.0</td>\n      <td>0.0</td>\n      <td>0.0</td>\n      <td>0.0</td>\n      <td>0.0</td>\n      <td>0.0</td>\n      <td>0.0</td>\n      <td>0.0</td>\n      <td>0.0</td>\n      <td>0.0</td>\n    </tr>\n    <tr>\n      <th>2</th>\n      <td>335817091</td>\n      <td>2015-01-07 12:32:58</td>\n      <td>0.0</td>\n      <td>https://twitter.com/teleSURtv/status/552880585...</td>\n      <td>0.0</td>\n      <td>False</td>\n      <td>NaN</td>\n      <td>18346</td>\n      <td>Twitter</td>\n      <td>http://twitter.com</td>\n      <td>...</td>\n      <td>0.0</td>\n      <td>0.0</td>\n      <td>0.0</td>\n      <td>0.0</td>\n      <td>0.0</td>\n      <td>0.0</td>\n      <td>0.0</td>\n      <td>0.0</td>\n      <td>0.0</td>\n      <td>0.0</td>\n    </tr>\n    <tr>\n      <th>3</th>\n      <td>320258910</td>\n      <td>2015-01-15 21:39:09</td>\n      <td>0.0</td>\n      <td>https://twitter.com/StopPatriarchy/status/5559...</td>\n      <td>0.0</td>\n      <td>False</td>\n      <td>NaN</td>\n      <td>18346</td>\n      <td>Twitter</td>\n      <td>http://twitter.com</td>\n      <td>...</td>\n      <td>0.0</td>\n      <td>0.0</td>\n      <td>0.0</td>\n      <td>0.0</td>\n      <td>0.0</td>\n      <td>0.0</td>\n      <td>0.0</td>\n      <td>0.0</td>\n      <td>0.0</td>\n      <td>0.0</td>\n    </tr>\n    <tr>\n      <th>4</th>\n      <td>372077690</td>\n      <td>2015-01-24 07:00:00</td>\n      <td>0.0</td>\n      <td>https://archive.is/ArtrI</td>\n      <td>0.0</td>\n      <td>False</td>\n      <td>computers and the internet</td>\n      <td>18346</td>\n      <td>Twitter</td>\n      <td>http://twitter.com</td>\n      <td>...</td>\n      <td>0.0</td>\n      <td>0.0</td>\n      <td>0.0</td>\n      <td>0.0</td>\n      <td>0.0</td>\n      <td>0.0</td>\n      <td>0.0</td>\n      <td>0.0</td>\n      <td>0.0</td>\n      <td>0.0</td>\n    </tr>\n  </tbody>\n</table>\n<p>5 rows × 6412 columns</p>\n</div>"
     },
     "metadata": {},
     "execution_count": 101
    }
   ],
   "source": [
    "df_3.head()"
   ]
  },
  {
   "cell_type": "code",
   "execution_count": 102,
   "metadata": {},
   "outputs": [
    {
     "output_type": "execute_result",
     "data": {
      "text/plain": "            landlord  adore  annual  query  light  dismantle  hurtful  \\\ndate                                                                    \n2015-01-03       0.0    0.0     0.0    0.0    0.0        0.0      0.0   \n2015-01-07       0.0    0.0     0.0    0.0    0.0        0.0      0.0   \n2015-01-15       0.0    0.0     0.0    0.0    0.0        0.0      0.0   \n2015-01-24       0.0    0.0     0.0    0.0    0.0        0.0      0.0   \n2015-02-05       0.0    0.0     0.0    0.0    0.0        0.0      0.0   \n\n            teammate  attain  anonymously  ...  misleading  disproportionate  \\\ndate                                       ...                                 \n2015-01-03       0.0     0.0          0.0  ...         0.0               0.0   \n2015-01-07       0.0     0.0          0.0  ...         0.0               0.0   \n2015-01-15       0.0     0.0          0.0  ...         0.0               0.0   \n2015-01-24       0.0     0.0          0.0  ...         0.0               0.0   \n2015-02-05       0.0     0.0          0.0  ...         0.0               0.0   \n\n            york  shake  wallet  intrusive  diversity  prompt  attentive  \\\ndate                                                                       \n2015-01-03   0.0    0.0     0.0        0.0        0.0     0.0        0.0   \n2015-01-07   0.0    0.0     0.0        0.0        0.0     0.0        0.0   \n2015-01-15   0.0    0.0     0.0        0.0        0.0     0.0        0.0   \n2015-01-24   0.0    0.0     0.0        0.0        0.0     0.0        0.0   \n2015-02-05   0.0    0.0     0.0        0.0        0.0     0.0        0.0   \n\n            pigeon  \ndate                \n2015-01-03     0.0  \n2015-01-07     0.0  \n2015-01-15     0.0  \n2015-01-24     0.0  \n2015-02-05     0.0  \n\n[5 rows x 6392 columns]",
      "text/html": "<div>\n<style scoped>\n    .dataframe tbody tr th:only-of-type {\n        vertical-align: middle;\n    }\n\n    .dataframe tbody tr th {\n        vertical-align: top;\n    }\n\n    .dataframe thead th {\n        text-align: right;\n    }\n</style>\n<table border=\"1\" class=\"dataframe\">\n  <thead>\n    <tr style=\"text-align: right;\">\n      <th></th>\n      <th>landlord</th>\n      <th>adore</th>\n      <th>annual</th>\n      <th>query</th>\n      <th>light</th>\n      <th>dismantle</th>\n      <th>hurtful</th>\n      <th>teammate</th>\n      <th>attain</th>\n      <th>anonymously</th>\n      <th>...</th>\n      <th>misleading</th>\n      <th>disproportionate</th>\n      <th>york</th>\n      <th>shake</th>\n      <th>wallet</th>\n      <th>intrusive</th>\n      <th>diversity</th>\n      <th>prompt</th>\n      <th>attentive</th>\n      <th>pigeon</th>\n    </tr>\n    <tr>\n      <th>date</th>\n      <th></th>\n      <th></th>\n      <th></th>\n      <th></th>\n      <th></th>\n      <th></th>\n      <th></th>\n      <th></th>\n      <th></th>\n      <th></th>\n      <th></th>\n      <th></th>\n      <th></th>\n      <th></th>\n      <th></th>\n      <th></th>\n      <th></th>\n      <th></th>\n      <th></th>\n      <th></th>\n      <th></th>\n    </tr>\n  </thead>\n  <tbody>\n    <tr>\n      <th>2015-01-03</th>\n      <td>0.0</td>\n      <td>0.0</td>\n      <td>0.0</td>\n      <td>0.0</td>\n      <td>0.0</td>\n      <td>0.0</td>\n      <td>0.0</td>\n      <td>0.0</td>\n      <td>0.0</td>\n      <td>0.0</td>\n      <td>...</td>\n      <td>0.0</td>\n      <td>0.0</td>\n      <td>0.0</td>\n      <td>0.0</td>\n      <td>0.0</td>\n      <td>0.0</td>\n      <td>0.0</td>\n      <td>0.0</td>\n      <td>0.0</td>\n      <td>0.0</td>\n    </tr>\n    <tr>\n      <th>2015-01-07</th>\n      <td>0.0</td>\n      <td>0.0</td>\n      <td>0.0</td>\n      <td>0.0</td>\n      <td>0.0</td>\n      <td>0.0</td>\n      <td>0.0</td>\n      <td>0.0</td>\n      <td>0.0</td>\n      <td>0.0</td>\n      <td>...</td>\n      <td>0.0</td>\n      <td>0.0</td>\n      <td>0.0</td>\n      <td>0.0</td>\n      <td>0.0</td>\n      <td>0.0</td>\n      <td>0.0</td>\n      <td>0.0</td>\n      <td>0.0</td>\n      <td>0.0</td>\n    </tr>\n    <tr>\n      <th>2015-01-15</th>\n      <td>0.0</td>\n      <td>0.0</td>\n      <td>0.0</td>\n      <td>0.0</td>\n      <td>0.0</td>\n      <td>0.0</td>\n      <td>0.0</td>\n      <td>0.0</td>\n      <td>0.0</td>\n      <td>0.0</td>\n      <td>...</td>\n      <td>0.0</td>\n      <td>0.0</td>\n      <td>0.0</td>\n      <td>0.0</td>\n      <td>0.0</td>\n      <td>0.0</td>\n      <td>0.0</td>\n      <td>0.0</td>\n      <td>0.0</td>\n      <td>0.0</td>\n    </tr>\n    <tr>\n      <th>2015-01-24</th>\n      <td>0.0</td>\n      <td>0.0</td>\n      <td>0.0</td>\n      <td>0.0</td>\n      <td>0.0</td>\n      <td>0.0</td>\n      <td>0.0</td>\n      <td>0.0</td>\n      <td>0.0</td>\n      <td>0.0</td>\n      <td>...</td>\n      <td>0.0</td>\n      <td>0.0</td>\n      <td>0.0</td>\n      <td>0.0</td>\n      <td>0.0</td>\n      <td>0.0</td>\n      <td>0.0</td>\n      <td>0.0</td>\n      <td>0.0</td>\n      <td>0.0</td>\n    </tr>\n    <tr>\n      <th>2015-02-05</th>\n      <td>0.0</td>\n      <td>0.0</td>\n      <td>0.0</td>\n      <td>0.0</td>\n      <td>0.0</td>\n      <td>0.0</td>\n      <td>0.0</td>\n      <td>0.0</td>\n      <td>0.0</td>\n      <td>0.0</td>\n      <td>...</td>\n      <td>0.0</td>\n      <td>0.0</td>\n      <td>0.0</td>\n      <td>0.0</td>\n      <td>0.0</td>\n      <td>0.0</td>\n      <td>0.0</td>\n      <td>0.0</td>\n      <td>0.0</td>\n      <td>0.0</td>\n    </tr>\n  </tbody>\n</table>\n<p>5 rows × 6392 columns</p>\n</div>"
     },
     "metadata": {},
     "execution_count": 102
    }
   ],
   "source": [
    "df_3['date'] = df_3['publish_date'].apply(lambda x: x.date())\n",
    "df_setB_node2 = df_3.set_index('date')\n",
    "#df_setA_node1.head()\n",
    "df_setB_node2_ = df_setB_node2.groupby(df_setB_node2.index)[fianlised_cols].sum()\n",
    "#df_setA_node2_.to_csv('df_setA_node2_.csv')\n",
    "df_setB_node2_.head()"
   ]
  },
  {
   "cell_type": "code",
   "execution_count": 103,
   "metadata": {},
   "outputs": [],
   "source": [
    "#df_setB_node2_.to_csv('df_setB_node2_.csv')"
   ]
  },
  {
   "cell_type": "code",
   "execution_count": 104,
   "metadata": {},
   "outputs": [
    {
     "output_type": "execute_result",
     "data": {
      "text/plain": "        date  Facebook.wiki  Google.wiki  Microsoft.wiki  \\\n0 2015-07-08          45403        45521           10472   \n1 2015-07-09          47202        43295            9806   \n2 2015-07-10          46622        42652            7816   \n3 2015-07-13          47063        44437            7857   \n4 2015-07-14          44508        45269            7314   \n\n   Amazon (company).wiki  Apple Inc..wiki        AAPL        AMZN         FB  \\\n0                      1            14554  112.758286  429.700012  85.650002   \n1                      1            13725  110.458405  434.390015  85.879997   \n2                      0            12394  113.411430  443.510010  87.949997   \n3                      2            12479  115.600922  455.570007  90.099998   \n4                      0            11447  115.554909  465.570007  89.680000   \n\n        GOOGL  ...  misleading  disproportionate  york  shake  wallet  \\\n0  541.700012  ...         0.0               0.0   0.0    0.0     0.0   \n1  544.650024  ...         0.0               0.0   0.0    0.0     0.0   \n2  556.109985  ...         0.0               0.0   0.0    0.0     0.0   \n3  571.729980  ...         0.0               0.0   0.0    0.0     0.0   \n4  584.179993  ...         0.0               0.0   0.0    0.0     0.0   \n\n   intrusive  diversity  prompt  attentive  pigeon  \n0        0.0        0.0     0.0        0.0     0.0  \n1        0.0        0.0     0.0        0.0     0.0  \n2        0.0        0.0     0.0        0.0     0.0  \n3        0.0        0.0     0.0        0.0     0.0  \n4        0.0        0.0     0.0        0.0     0.0  \n\n[5 rows x 6458 columns]",
      "text/html": "<div>\n<style scoped>\n    .dataframe tbody tr th:only-of-type {\n        vertical-align: middle;\n    }\n\n    .dataframe tbody tr th {\n        vertical-align: top;\n    }\n\n    .dataframe thead th {\n        text-align: right;\n    }\n</style>\n<table border=\"1\" class=\"dataframe\">\n  <thead>\n    <tr style=\"text-align: right;\">\n      <th></th>\n      <th>date</th>\n      <th>Facebook.wiki</th>\n      <th>Google.wiki</th>\n      <th>Microsoft.wiki</th>\n      <th>Amazon (company).wiki</th>\n      <th>Apple Inc..wiki</th>\n      <th>AAPL</th>\n      <th>AMZN</th>\n      <th>FB</th>\n      <th>GOOGL</th>\n      <th>...</th>\n      <th>misleading</th>\n      <th>disproportionate</th>\n      <th>york</th>\n      <th>shake</th>\n      <th>wallet</th>\n      <th>intrusive</th>\n      <th>diversity</th>\n      <th>prompt</th>\n      <th>attentive</th>\n      <th>pigeon</th>\n    </tr>\n  </thead>\n  <tbody>\n    <tr>\n      <th>0</th>\n      <td>2015-07-08</td>\n      <td>45403</td>\n      <td>45521</td>\n      <td>10472</td>\n      <td>1</td>\n      <td>14554</td>\n      <td>112.758286</td>\n      <td>429.700012</td>\n      <td>85.650002</td>\n      <td>541.700012</td>\n      <td>...</td>\n      <td>0.0</td>\n      <td>0.0</td>\n      <td>0.0</td>\n      <td>0.0</td>\n      <td>0.0</td>\n      <td>0.0</td>\n      <td>0.0</td>\n      <td>0.0</td>\n      <td>0.0</td>\n      <td>0.0</td>\n    </tr>\n    <tr>\n      <th>1</th>\n      <td>2015-07-09</td>\n      <td>47202</td>\n      <td>43295</td>\n      <td>9806</td>\n      <td>1</td>\n      <td>13725</td>\n      <td>110.458405</td>\n      <td>434.390015</td>\n      <td>85.879997</td>\n      <td>544.650024</td>\n      <td>...</td>\n      <td>0.0</td>\n      <td>0.0</td>\n      <td>0.0</td>\n      <td>0.0</td>\n      <td>0.0</td>\n      <td>0.0</td>\n      <td>0.0</td>\n      <td>0.0</td>\n      <td>0.0</td>\n      <td>0.0</td>\n    </tr>\n    <tr>\n      <th>2</th>\n      <td>2015-07-10</td>\n      <td>46622</td>\n      <td>42652</td>\n      <td>7816</td>\n      <td>0</td>\n      <td>12394</td>\n      <td>113.411430</td>\n      <td>443.510010</td>\n      <td>87.949997</td>\n      <td>556.109985</td>\n      <td>...</td>\n      <td>0.0</td>\n      <td>0.0</td>\n      <td>0.0</td>\n      <td>0.0</td>\n      <td>0.0</td>\n      <td>0.0</td>\n      <td>0.0</td>\n      <td>0.0</td>\n      <td>0.0</td>\n      <td>0.0</td>\n    </tr>\n    <tr>\n      <th>3</th>\n      <td>2015-07-13</td>\n      <td>47063</td>\n      <td>44437</td>\n      <td>7857</td>\n      <td>2</td>\n      <td>12479</td>\n      <td>115.600922</td>\n      <td>455.570007</td>\n      <td>90.099998</td>\n      <td>571.729980</td>\n      <td>...</td>\n      <td>0.0</td>\n      <td>0.0</td>\n      <td>0.0</td>\n      <td>0.0</td>\n      <td>0.0</td>\n      <td>0.0</td>\n      <td>0.0</td>\n      <td>0.0</td>\n      <td>0.0</td>\n      <td>0.0</td>\n    </tr>\n    <tr>\n      <th>4</th>\n      <td>2015-07-14</td>\n      <td>44508</td>\n      <td>45269</td>\n      <td>7314</td>\n      <td>0</td>\n      <td>11447</td>\n      <td>115.554909</td>\n      <td>465.570007</td>\n      <td>89.680000</td>\n      <td>584.179993</td>\n      <td>...</td>\n      <td>0.0</td>\n      <td>0.0</td>\n      <td>0.0</td>\n      <td>0.0</td>\n      <td>0.0</td>\n      <td>0.0</td>\n      <td>0.0</td>\n      <td>0.0</td>\n      <td>0.0</td>\n      <td>0.0</td>\n    </tr>\n  </tbody>\n</table>\n<p>5 rows × 6458 columns</p>\n</div>"
     },
     "metadata": {},
     "execution_count": 104
    }
   ],
   "source": [
    "data_setB_node2 = f.merge(df_setB_node2_, left_index = True, right_index = True, how = 'left')\n",
    "data_setB_node2 = data_setB_node2.fillna(0)\n",
    "data_setB_node2.head()\n",
    "#data_setB_node2.to_csv('data_setB_node2.csv')"
   ]
  },
  {
   "cell_type": "code",
   "execution_count": null,
   "metadata": {},
   "outputs": [],
   "source": []
  }
 ]
}